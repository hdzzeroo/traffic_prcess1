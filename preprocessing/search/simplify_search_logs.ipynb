{
 "cells": [
  {
   "cell_type": "markdown",
   "id": "d9c54838-0c0d-4ab8-a7a4-e97cf76cf4d9",
   "metadata": {
    "tags": []
   },
   "source": [
    "# このファイルについて\n",
    "- about: ドラぷら検索ログの簡略化\n",
    "    - カラムの限定\n",
    "    - コンテスト対象道路（関越道・東北道）を通過しない検索の除外\n",
    "- author: 松永"
   ]
  },
  {
   "cell_type": "code",
   "execution_count": 1,
   "id": "adc1598c-32cf-4642-be14-9ebe5eadd4cc",
   "metadata": {
    "tags": []
   },
   "outputs": [],
   "source": [
    "import os\n",
    "import time\n",
    "import pickle\n",
    "from typing import Dict, List, Optional, Set\n",
    "import networkx as nx\n",
    "import numpy as np\n",
    "import pandas as pd\n",
    "import cudf\n",
    "\n",
    "import warnings\n",
    "warnings.simplefilter('ignore')"
   ]
  },
  {
   "cell_type": "code",
   "execution_count": 2,
   "id": "5dfa40c2-ba8a-4965-ab3f-4346997a8748",
   "metadata": {},
   "outputs": [],
   "source": [
    "# data directory\n",
    "DATA_DIR = '../../Input_processed_data'\n",
    "\n",
    "# IC, 道路情報 csv\n",
    "IC_NET_CSV = f'{DATA_DIR}/road_master/220303-doronet_ic.csv'\n",
    "IC_SUBNET_CSV = f'{DATA_DIR}/road_master/icnet_sub.csv'\n",
    "\n",
    "# 検索ログ csv\n",
    "SEARCH_LOG_DIR = lambda month: f'{DATA_DIR}/search_records/csv{month}'\n",
    "SEARCH_LOG_CSV = lambda date: f'{SEARCH_LOG_DIR(date[:6])}/record_{date}.csv'"
   ]
  },
  {
   "cell_type": "markdown",
   "id": "a920f834-1a0a-43dd-9cac-6846d5506e5d",
   "metadata": {},
   "source": [
    "# 準備"
   ]
  },
  {
   "cell_type": "code",
   "execution_count": 3,
   "id": "1b76439b-e378-448d-87aa-bab280769e81",
   "metadata": {},
   "outputs": [],
   "source": [
    "# モジュール内で前処理済み\n",
    "df_icnet = pd.read_csv(IC_NET_CSV, dtype={'start_code': str, 'end_code': str, 'road_code': str})\n",
    "sub_icnet = pd.read_csv(IC_SUBNET_CSV, dtype={'start_code': str, 'end_code': str, 'road_code': str})"
   ]
  },
  {
   "cell_type": "code",
   "execution_count": 4,
   "id": "cefb0ae1-bda4-4e6a-bae5-98cba891e0d8",
   "metadata": {},
   "outputs": [],
   "source": [
    "ic_graph = nx.from_pandas_edgelist(\n",
    "    df_icnet, source='start_code', target='end_code',\n",
    "    edge_attr=['distance', 'road_code', 'direction'], create_using=nx.DiGraph())"
   ]
  },
  {
   "cell_type": "code",
   "execution_count": 5,
   "id": "864f1cfa-9844-41d9-aa5e-1e4715fc64bf",
   "metadata": {},
   "outputs": [],
   "source": [
    "ic_nodes_set: set = set(ic_graph.nodes)"
   ]
  },
  {
   "cell_type": "markdown",
   "id": "dea6a0b5-2e0d-4cbf-8d4c-882f5042c836",
   "metadata": {},
   "source": [
    "# 検索ログを簡略化"
   ]
  },
  {
   "cell_type": "code",
   "execution_count": 6,
   "id": "e563826d-6b16-4e2d-abd6-ca4c37368042",
   "metadata": {},
   "outputs": [],
   "source": [
    "def get_log(date: str) -> cudf.DataFrame:\n",
    "    type_map = {\n",
    "        'start_code': str,\n",
    "        'end_code': str,\n",
    "        'via1_code': str,\n",
    "        'via2_code': str,\n",
    "        'via3_code': str,\n",
    "        'order': str,\n",
    "        'car_type': str,\n",
    "    }\n",
    "\n",
    "    if not os.path.exists(SEARCH_LOG_CSV(date)):\n",
    "        return cudf.DataFrame()\n",
    "    df = pd.read_csv(SEARCH_LOG_CSV(date), dtype=type_map)\n",
    "    return cudf.from_pandas(df)"
   ]
  },
  {
   "cell_type": "markdown",
   "id": "73d91c3d-423b-4905-bb0b-63b700ed6074",
   "metadata": {},
   "source": [
    "## 列を選択"
   ]
  },
  {
   "cell_type": "code",
   "execution_count": 7,
   "id": "25b315bd-eb3a-44d9-b2fb-ffa7eb912768",
   "metadata": {},
   "outputs": [],
   "source": [
    "def simplify_search_log(df: cudf.DataFrame) -> cudf.DataFrame:\n",
    "    # レコードを限定\n",
    "    df_res = df.loc[(df['start_code'].isin(ic_nodes_set)) & (df['end_code'].isin(ic_nodes_set))]\n",
    "    \n",
    "    # 列を限定\n",
    "    select_columns = ['date', 'start_code', 'end_code', 'spec_day', 'spec_time', 'spec_type', 'car_type']\n",
    "    df_res = df_res.loc[:, select_columns].rename(columns={'date': 'datetime'})\n",
    "    \n",
    "    # 指定日時を1列にまとめる\n",
    "    df_res = df_res.assign(spec_datetime=df_res['spec_day'] + ' ' + df_res['spec_time'])\n",
    "    df_res.drop(['spec_day', 'spec_time'], axis=1, inplace=True)\n",
    "    \n",
    "    # 型変換\n",
    "    df_res = df_res.astype({\n",
    "        'start_code': 'category',\n",
    "        'end_code': 'category',\n",
    "        'spec_type': 'category',\n",
    "        'car_type': 'category',\n",
    "    })\n",
    "    df_res = df_res.assign(\n",
    "        datetime=cudf.to_datetime(df_res['datetime']),\n",
    "        spec_datetime=cudf.to_datetime(df_res['spec_datetime'])\n",
    "    )\n",
    "    \n",
    "    # 列並び替え\n",
    "    select_columns = ['datetime', 'start_code', 'end_code', 'spec_datetime', 'spec_type', 'car_type']\n",
    "    return df_res.loc[:, select_columns]"
   ]
  },
  {
   "cell_type": "code",
   "execution_count": 8,
   "id": "ad879b43-e0a2-459d-a21c-52b807e924e8",
   "metadata": {},
   "outputs": [
    {
     "name": "stdout",
     "output_type": "stream",
     "text": [
      "(372388, 6)\n"
     ]
    },
    {
     "data": {
      "text/html": [
       "<div>\n",
       "<style scoped>\n",
       "    .dataframe tbody tr th:only-of-type {\n",
       "        vertical-align: middle;\n",
       "    }\n",
       "\n",
       "    .dataframe tbody tr th {\n",
       "        vertical-align: top;\n",
       "    }\n",
       "\n",
       "    .dataframe thead th {\n",
       "        text-align: right;\n",
       "    }\n",
       "</style>\n",
       "<table border=\"1\" class=\"dataframe\">\n",
       "  <thead>\n",
       "    <tr style=\"text-align: right;\">\n",
       "      <th></th>\n",
       "      <th>datetime</th>\n",
       "      <th>start_code</th>\n",
       "      <th>end_code</th>\n",
       "      <th>spec_datetime</th>\n",
       "      <th>spec_type</th>\n",
       "      <th>car_type</th>\n",
       "    </tr>\n",
       "  </thead>\n",
       "  <tbody>\n",
       "    <tr>\n",
       "      <th>0</th>\n",
       "      <td>2024-02-01 00:00:00</td>\n",
       "      <td>5013001</td>\n",
       "      <td>1720081</td>\n",
       "      <td>2024-02-01 00:00:00</td>\n",
       "      <td>1</td>\n",
       "      <td>2</td>\n",
       "    </tr>\n",
       "    <tr>\n",
       "      <th>1</th>\n",
       "      <td>2024-02-01 00:00:00</td>\n",
       "      <td>1040141</td>\n",
       "      <td>1030091</td>\n",
       "      <td>2024-02-01 00:00:00</td>\n",
       "      <td>1</td>\n",
       "      <td>2</td>\n",
       "    </tr>\n",
       "    <tr>\n",
       "      <th>2</th>\n",
       "      <td>2024-02-01 00:00:01</td>\n",
       "      <td>1720031</td>\n",
       "      <td>1073006</td>\n",
       "      <td>2024-01-31 11:50:00</td>\n",
       "      <td>1</td>\n",
       "      <td>2</td>\n",
       "    </tr>\n",
       "    <tr>\n",
       "      <th>3</th>\n",
       "      <td>2024-02-01 00:00:01</td>\n",
       "      <td>214K071</td>\n",
       "      <td>1040086</td>\n",
       "      <td>2024-02-01 00:00:00</td>\n",
       "      <td>1</td>\n",
       "      <td>2</td>\n",
       "    </tr>\n",
       "    <tr>\n",
       "      <th>4</th>\n",
       "      <td>2024-02-01 00:00:02</td>\n",
       "      <td>1010031</td>\n",
       "      <td>1120071</td>\n",
       "      <td>2024-01-31 00:00:00</td>\n",
       "      <td>1</td>\n",
       "      <td>4</td>\n",
       "    </tr>\n",
       "  </tbody>\n",
       "</table>\n",
       "</div>"
      ],
      "text/plain": [
       "             datetime start_code end_code       spec_datetime spec_type  \\\n",
       "0 2024-02-01 00:00:00    5013001  1720081 2024-02-01 00:00:00         1   \n",
       "1 2024-02-01 00:00:00    1040141  1030091 2024-02-01 00:00:00         1   \n",
       "2 2024-02-01 00:00:01    1720031  1073006 2024-01-31 11:50:00         1   \n",
       "3 2024-02-01 00:00:01    214K071  1040086 2024-02-01 00:00:00         1   \n",
       "4 2024-02-01 00:00:02    1010031  1120071 2024-01-31 00:00:00         1   \n",
       "\n",
       "  car_type  \n",
       "0        2  \n",
       "1        2  \n",
       "2        2  \n",
       "3        2  \n",
       "4        4  "
      ]
     },
     "execution_count": 8,
     "metadata": {},
     "output_type": "execute_result"
    }
   ],
   "source": [
    "df_simple = simplify_search_log(get_log('20240201'))\n",
    "print(df_simple.shape)\n",
    "df_simple.head()"
   ]
  },
  {
   "cell_type": "markdown",
   "id": "4c88b9fd-eac8-41cd-957a-b22de8cfab10",
   "metadata": {},
   "source": [
    "## 関越道・東北道を通過するレコードのみを抜き出す"
   ]
  },
  {
   "cell_type": "markdown",
   "id": "af10c2ca-bc06-4395-a689-59257fc4ac44",
   "metadata": {},
   "source": [
    "### 経路検索用プログラム"
   ]
  },
  {
   "cell_type": "code",
   "execution_count": 9,
   "id": "f094b0c5-968e-495c-bd10-6b01c322b8b8",
   "metadata": {},
   "outputs": [],
   "source": [
    "def __get_route(\n",
    "    src: str, dest: str, route_dict: Dict[str, Dict[str, List[str]]]\n",
    ") -> Optional[List[str]]:\n",
    "    if not (src in ic_nodes_set and dest in ic_nodes_set):\n",
    "        return []\n",
    "    try:\n",
    "        path = route_dict[src][dest]\n",
    "        return path\n",
    "    except: # 経路が存在しない, もしくはノードがグラフ上に存在しない場合\n",
    "        return []"
   ]
  },
  {
   "cell_type": "code",
   "execution_count": 10,
   "id": "7ffc87bf-5374-4c19-a50e-f2980c3b81dd",
   "metadata": {
    "tags": []
   },
   "outputs": [],
   "source": [
    "def get_route(\n",
    "    src: str, \n",
    "    dest: str, \n",
    "    route_dict: Dict[str, Dict[str, List[str]]],\n",
    "    excluded_ic_set: Set[str] = set(),\n",
    ") -> List[str]:\n",
    "    '''\n",
    "    ic_graph上で出発地から目的地までの経路を得る関数\n",
    "\n",
    "    Parameters\n",
    "    --------------\n",
    "    src: 出発ICコード\n",
    "    dest: 目的ICコード\n",
    "    '''\n",
    "    path = __get_route(src, dest, route_dict=route_dict)\n",
    "    \n",
    "    if len(excluded_ic_set) > 0:\n",
    "        path = [ic for ic in path if ic not in excluded_ic_set]\n",
    "    return path"
   ]
  },
  {
   "cell_type": "code",
   "execution_count": 11,
   "id": "0f6e18cc-7847-4939-aa27-2e75d5d88c13",
   "metadata": {},
   "outputs": [
    {
     "name": "stdout",
     "output_type": "stream",
     "text": [
      "Loading IC Routes...\n",
      "Finished.\n"
     ]
    }
   ],
   "source": [
    "fname = './route_dict.pkl'\n",
    "\n",
    "if os.path.exists(fname): # 経路マップがすでに存在しているとき、それを使う\n",
    "    with open(fname, 'rb') as f:\n",
    "        print('Loading IC Routes...')\n",
    "        route_dict = pickle.load(f)\n",
    "else: # 存在していなければ計算してバイナリで保存\n",
    "    print('Calculating IC Routes...')\n",
    "    route_dict = dict(nx.all_pairs_dijkstra_path(ic_graph, weight='distance'))\n",
    "    \n",
    "    with open(fname, 'wb') as f:\n",
    "        pickle.dump(route_dict, f)\n",
    "print('Finished.')"
   ]
  },
  {
   "cell_type": "markdown",
   "id": "e4c59e69-93f6-4c63-b415-f761815b64cf",
   "metadata": {
    "tags": []
   },
   "source": [
    "### 対象道路のみを抽出"
   ]
  },
  {
   "cell_type": "code",
   "execution_count": 12,
   "id": "bf38326f-4a54-47f4-8aa0-43f57062ccf1",
   "metadata": {},
   "outputs": [],
   "source": [
    "target_road_code_set = {'1800', '1040'}"
   ]
  },
  {
   "cell_type": "code",
   "execution_count": 13,
   "id": "2ea3b41f-5d88-4c41-b90c-7c95c26fb113",
   "metadata": {
    "tags": []
   },
   "outputs": [],
   "source": [
    "def extract_road_related_queries(df_log: cudf.DataFrame, target_road_code_set: set) -> cudf.DataFrame:\n",
    "    query_indices = []\n",
    "\n",
    "    for i_query, record in enumerate(df_log.to_numpy()):\n",
    "        start_code, end_code = record[[1, 2]]\n",
    "        path = get_route(start_code, end_code, route_dict)\n",
    "        # when the shortest path cannot be calculated\n",
    "        if len(path) == 0:\n",
    "            continue\n",
    "        \n",
    "        for i_segment, (start_code, end_code) in enumerate(zip(path, path[1:])):\n",
    "            if ic_graph[start_code][end_code]['road_code'] in target_road_code_set:\n",
    "                query_indices.append(i_query)\n",
    "                break\n",
    "\n",
    "    related_df_log = df_log.iloc[query_indices].reset_index(drop=True)\n",
    "    return related_df_log"
   ]
  },
  {
   "cell_type": "code",
   "execution_count": 14,
   "id": "e3af8491-e6ad-42c0-b62a-87bfa0677fe4",
   "metadata": {},
   "outputs": [],
   "source": [
    "PERIOD_BLOCKS = [\n",
    "    # ('20210401', '20210630'),\n",
    "    # ('20210701', '20210930'),\n",
    "    # ('20211001', '20211231'),\n",
    "    # ('20220101', '20220331'),\n",
    "    # ('20220401', '20220630'),\n",
    "    # ('20220701', '20220930'),\n",
    "    # ('20221001', '20221231'),\n",
    "    # ('20230101', '20230331'),\n",
    "    # ('20230401', '20230630'),\n",
    "    # ('20230701', '20230930'),\n",
    "    # ('20231001', '20231231'),\n",
    "    # ('20240101', '20240131'),\n",
    "    # ('20240201', '20240331'),\n",
    "    # ('20240401', '20240506'),\n",
    "    ('20240507', '20240831')\n",
    "]"
   ]
  },
  {
   "cell_type": "code",
   "execution_count": 15,
   "id": "1b073860-f420-4dcf-87e9-d55f6c32d9d6",
   "metadata": {},
   "outputs": [],
   "source": [
    "OUTPUT_FILE = lambda date: f'{DATA_DIR}/simple_search_records/csv{date[:6]}/record_{date}.csv'"
   ]
  },
  {
   "cell_type": "code",
   "execution_count": null,
   "id": "c01c4a60-a0c4-434c-9165-3cdcf76c9641",
   "metadata": {
    "tags": []
   },
   "outputs": [
    {
     "name": "stdout",
     "output_type": "stream",
     "text": [
      "======================================== 20240507 -> 20240831 ========================================\n",
      "20240507 | # of related queries: 191888 (36.13 [sec])\n",
      "20240508 | # of related queries: 161177 (28.92 [sec])\n",
      "20240509 | # of related queries: 169666 (28.96 [sec])\n",
      "20240510 | # of related queries: 172653 (28.61 [sec])\n",
      "20240511 | # of related queries: 145759 (23.43 [sec])\n",
      "20240512 | # of related queries: 140923 (23.20 [sec])\n",
      "20240513 | # of related queries: 181106 (29.91 [sec])\n",
      "20240514 | # of related queries: 163654 (27.64 [sec])\n"
     ]
    }
   ],
   "source": [
    "for start_date, end_date in PERIOD_BLOCKS:\n",
    "    print('='*40, f'{start_date} -> {end_date}', '='*40)\n",
    "    date_list = [d.strftime('%Y%m%d') for d in pd.date_range(start_date, end_date, freq='1D')]\n",
    "    \n",
    "    for i_date, target_date in enumerate(date_list):\n",
    "        s = time.time()\n",
    "        \n",
    "        df_simple = simplify_search_log(get_log(target_date))\n",
    "        df_related_log = extract_road_related_queries(df_simple, target_road_code_set)\n",
    "                \n",
    "        fname_out = OUTPUT_FILE(target_date)\n",
    "        print(f'{target_date} | # of related queries: {len(df_related_log)} ({time.time() - s:.2f} [sec])')\n",
    "\n",
    "        os.makedirs(os.path.dirname(fname_out), exist_ok=True)\n",
    "        df_related_log.to_pandas().to_csv(fname_out, index=False)"
   ]
  },
  {
   "cell_type": "code",
   "execution_count": 17,
   "id": "ec1ab2ab-ed02-4bfd-a413-16fd641f1bdd",
   "metadata": {
    "tags": []
   },
   "outputs": [
    {
     "ename": "KeyboardInterrupt",
     "evalue": "",
     "output_type": "error",
     "traceback": [
      "\u001b[0;31m---------------------------------------------------------------------------\u001b[0m",
      "\u001b[0;31mKeyboardInterrupt\u001b[0m                         Traceback (most recent call last)",
      "\u001b[0;32m/tmp/ipykernel_28594/4274438702.py\u001b[0m in \u001b[0;36m<module>\u001b[0;34m\u001b[0m\n\u001b[1;32m      1\u001b[0m \u001b[0mdf_simple\u001b[0m \u001b[0;34m=\u001b[0m \u001b[0msimplify_search_log\u001b[0m\u001b[0;34m(\u001b[0m\u001b[0mget_log\u001b[0m\u001b[0;34m(\u001b[0m\u001b[0;34m'20231030'\u001b[0m\u001b[0;34m)\u001b[0m\u001b[0;34m)\u001b[0m\u001b[0;34m\u001b[0m\u001b[0;34m\u001b[0m\u001b[0m\n\u001b[0;32m----> 2\u001b[0;31m \u001b[0mdf_related_log\u001b[0m \u001b[0;34m=\u001b[0m \u001b[0mextract_road_related_queries\u001b[0m\u001b[0;34m(\u001b[0m\u001b[0mdf_simple\u001b[0m\u001b[0;34m,\u001b[0m \u001b[0mtarget_road_code_set\u001b[0m\u001b[0;34m)\u001b[0m\u001b[0;34m\u001b[0m\u001b[0;34m\u001b[0m\u001b[0m\n\u001b[0m",
      "\u001b[0;32m/tmp/ipykernel_28594/4269785921.py\u001b[0m in \u001b[0;36mextract_road_related_queries\u001b[0;34m(df_log, target_road_code_set)\u001b[0m\n\u001b[1;32m     10\u001b[0m \u001b[0;34m\u001b[0m\u001b[0m\n\u001b[1;32m     11\u001b[0m         \u001b[0;32mfor\u001b[0m \u001b[0mi_segment\u001b[0m\u001b[0;34m,\u001b[0m \u001b[0;34m(\u001b[0m\u001b[0mstart_code\u001b[0m\u001b[0;34m,\u001b[0m \u001b[0mend_code\u001b[0m\u001b[0;34m)\u001b[0m \u001b[0;32min\u001b[0m \u001b[0menumerate\u001b[0m\u001b[0;34m(\u001b[0m\u001b[0mzip\u001b[0m\u001b[0;34m(\u001b[0m\u001b[0mpath\u001b[0m\u001b[0;34m,\u001b[0m \u001b[0mpath\u001b[0m\u001b[0;34m[\u001b[0m\u001b[0;36m1\u001b[0m\u001b[0;34m:\u001b[0m\u001b[0;34m]\u001b[0m\u001b[0;34m)\u001b[0m\u001b[0;34m)\u001b[0m\u001b[0;34m:\u001b[0m\u001b[0;34m\u001b[0m\u001b[0;34m\u001b[0m\u001b[0m\n\u001b[0;32m---> 12\u001b[0;31m             \u001b[0;32mif\u001b[0m \u001b[0mic_graph\u001b[0m\u001b[0;34m[\u001b[0m\u001b[0mstart_code\u001b[0m\u001b[0;34m]\u001b[0m\u001b[0;34m[\u001b[0m\u001b[0mend_code\u001b[0m\u001b[0;34m]\u001b[0m\u001b[0;34m[\u001b[0m\u001b[0;34m'road_code'\u001b[0m\u001b[0;34m]\u001b[0m \u001b[0;32min\u001b[0m \u001b[0mtarget_road_code_set\u001b[0m\u001b[0;34m:\u001b[0m\u001b[0;34m\u001b[0m\u001b[0;34m\u001b[0m\u001b[0m\n\u001b[0m\u001b[1;32m     13\u001b[0m                 \u001b[0mquery_indices\u001b[0m\u001b[0;34m.\u001b[0m\u001b[0mappend\u001b[0m\u001b[0;34m(\u001b[0m\u001b[0mi_query\u001b[0m\u001b[0;34m)\u001b[0m\u001b[0;34m\u001b[0m\u001b[0;34m\u001b[0m\u001b[0m\n\u001b[1;32m     14\u001b[0m                 \u001b[0;32mbreak\u001b[0m\u001b[0;34m\u001b[0m\u001b[0;34m\u001b[0m\u001b[0m\n",
      "\u001b[0;31mKeyboardInterrupt\u001b[0m: "
     ]
    }
   ],
   "source": [
    "df_simple = simplify_search_log(get_log('20240507'))\n",
    "df_related_log = extract_road_related_queries(df_simple, target_road_code_set) "
   ]
  },
  {
   "cell_type": "code",
   "execution_count": 19,
   "id": "d6d4d610-e4b0-4d96-ac89-53b4e57ef6b0",
   "metadata": {},
   "outputs": [
    {
     "data": {
      "text/plain": [
       "((346484, 6), (112648, 6))"
      ]
     },
     "execution_count": 19,
     "metadata": {},
     "output_type": "execute_result"
    }
   ],
   "source": [
    "df_simple.shape, df_related_log.shape"
   ]
  },
  {
   "cell_type": "code",
   "execution_count": 20,
   "id": "b9011f32-50cc-469f-9c46-3b94adf6f2aa",
   "metadata": {},
   "outputs": [
    {
     "data": {
      "text/html": [
       "<div>\n",
       "<style scoped>\n",
       "    .dataframe tbody tr th:only-of-type {\n",
       "        vertical-align: middle;\n",
       "    }\n",
       "\n",
       "    .dataframe tbody tr th {\n",
       "        vertical-align: top;\n",
       "    }\n",
       "\n",
       "    .dataframe thead th {\n",
       "        text-align: right;\n",
       "    }\n",
       "</style>\n",
       "<table border=\"1\" class=\"dataframe\">\n",
       "  <thead>\n",
       "    <tr style=\"text-align: right;\">\n",
       "      <th></th>\n",
       "      <th>datetime</th>\n",
       "      <th>start_code</th>\n",
       "      <th>end_code</th>\n",
       "      <th>spec_datetime</th>\n",
       "      <th>spec_type</th>\n",
       "      <th>car_type</th>\n",
       "    </tr>\n",
       "  </thead>\n",
       "  <tbody>\n",
       "    <tr>\n",
       "      <th>0</th>\n",
       "      <td>2024-01-31 00:00:00</td>\n",
       "      <td>5045040</td>\n",
       "      <td>1810086</td>\n",
       "      <td>2024-02-23 12:00:00</td>\n",
       "      <td>1</td>\n",
       "      <td>2</td>\n",
       "    </tr>\n",
       "    <tr>\n",
       "      <th>1</th>\n",
       "      <td>2024-01-31 00:00:00</td>\n",
       "      <td>5022005</td>\n",
       "      <td>1011131</td>\n",
       "      <td>2024-01-31 00:00:00</td>\n",
       "      <td>1</td>\n",
       "      <td>2</td>\n",
       "    </tr>\n",
       "    <tr>\n",
       "      <th>2</th>\n",
       "      <td>2024-01-31 00:00:00</td>\n",
       "      <td>1010266</td>\n",
       "      <td>1010181</td>\n",
       "      <td>2024-01-29 15:00:00</td>\n",
       "      <td>1</td>\n",
       "      <td>1</td>\n",
       "    </tr>\n",
       "    <tr>\n",
       "      <th>3</th>\n",
       "      <td>2024-01-31 00:00:00</td>\n",
       "      <td>1040251</td>\n",
       "      <td>5037010</td>\n",
       "      <td>2024-01-31 00:00:00</td>\n",
       "      <td>1</td>\n",
       "      <td>2</td>\n",
       "    </tr>\n",
       "    <tr>\n",
       "      <th>4</th>\n",
       "      <td>2024-01-31 00:00:01</td>\n",
       "      <td>1040241</td>\n",
       "      <td>1040266</td>\n",
       "      <td>2024-01-30 07:00:00</td>\n",
       "      <td>1</td>\n",
       "      <td>2</td>\n",
       "    </tr>\n",
       "  </tbody>\n",
       "</table>\n",
       "</div>"
      ],
      "text/plain": [
       "             datetime start_code end_code       spec_datetime spec_type  \\\n",
       "0 2024-01-31 00:00:00    5045040  1810086 2024-02-23 12:00:00         1   \n",
       "1 2024-01-31 00:00:00    5022005  1011131 2024-01-31 00:00:00         1   \n",
       "2 2024-01-31 00:00:00    1010266  1010181 2024-01-29 15:00:00         1   \n",
       "3 2024-01-31 00:00:00    1040251  5037010 2024-01-31 00:00:00         1   \n",
       "4 2024-01-31 00:00:01    1040241  1040266 2024-01-30 07:00:00         1   \n",
       "\n",
       "  car_type  \n",
       "0        2  \n",
       "1        2  \n",
       "2        1  \n",
       "3        2  \n",
       "4        2  "
      ]
     },
     "execution_count": 20,
     "metadata": {},
     "output_type": "execute_result"
    }
   ],
   "source": [
    "df_simple.head()"
   ]
  },
  {
   "cell_type": "code",
   "execution_count": 21,
   "id": "35b813ab-7709-47a9-876a-ec9920a2f420",
   "metadata": {},
   "outputs": [
    {
     "data": {
      "text/html": [
       "<div>\n",
       "<style scoped>\n",
       "    .dataframe tbody tr th:only-of-type {\n",
       "        vertical-align: middle;\n",
       "    }\n",
       "\n",
       "    .dataframe tbody tr th {\n",
       "        vertical-align: top;\n",
       "    }\n",
       "\n",
       "    .dataframe thead th {\n",
       "        text-align: right;\n",
       "    }\n",
       "</style>\n",
       "<table border=\"1\" class=\"dataframe\">\n",
       "  <thead>\n",
       "    <tr style=\"text-align: right;\">\n",
       "      <th></th>\n",
       "      <th>datetime</th>\n",
       "      <th>start_code</th>\n",
       "      <th>end_code</th>\n",
       "      <th>spec_datetime</th>\n",
       "      <th>spec_type</th>\n",
       "      <th>car_type</th>\n",
       "    </tr>\n",
       "  </thead>\n",
       "  <tbody>\n",
       "    <tr>\n",
       "      <th>0</th>\n",
       "      <td>2024-01-31 00:00:00</td>\n",
       "      <td>5045040</td>\n",
       "      <td>1810086</td>\n",
       "      <td>2024-02-23 12:00:00</td>\n",
       "      <td>1</td>\n",
       "      <td>2</td>\n",
       "    </tr>\n",
       "    <tr>\n",
       "      <th>1</th>\n",
       "      <td>2024-01-31 00:00:00</td>\n",
       "      <td>1040251</td>\n",
       "      <td>5037010</td>\n",
       "      <td>2024-01-31 00:00:00</td>\n",
       "      <td>1</td>\n",
       "      <td>2</td>\n",
       "    </tr>\n",
       "    <tr>\n",
       "      <th>2</th>\n",
       "      <td>2024-01-31 00:00:01</td>\n",
       "      <td>1040241</td>\n",
       "      <td>1040266</td>\n",
       "      <td>2024-01-30 07:00:00</td>\n",
       "      <td>1</td>\n",
       "      <td>2</td>\n",
       "    </tr>\n",
       "    <tr>\n",
       "      <th>3</th>\n",
       "      <td>2024-01-31 00:00:02</td>\n",
       "      <td>5046020</td>\n",
       "      <td>1040368</td>\n",
       "      <td>2024-01-31 00:00:00</td>\n",
       "      <td>1</td>\n",
       "      <td>2</td>\n",
       "    </tr>\n",
       "    <tr>\n",
       "      <th>4</th>\n",
       "      <td>2024-01-31 00:00:02</td>\n",
       "      <td>1800076</td>\n",
       "      <td>5002041</td>\n",
       "      <td>2024-01-31 00:00:00</td>\n",
       "      <td>1</td>\n",
       "      <td>2</td>\n",
       "    </tr>\n",
       "  </tbody>\n",
       "</table>\n",
       "</div>"
      ],
      "text/plain": [
       "             datetime start_code end_code       spec_datetime spec_type  \\\n",
       "0 2024-01-31 00:00:00    5045040  1810086 2024-02-23 12:00:00         1   \n",
       "1 2024-01-31 00:00:00    1040251  5037010 2024-01-31 00:00:00         1   \n",
       "2 2024-01-31 00:00:01    1040241  1040266 2024-01-30 07:00:00         1   \n",
       "3 2024-01-31 00:00:02    5046020  1040368 2024-01-31 00:00:00         1   \n",
       "4 2024-01-31 00:00:02    1800076  5002041 2024-01-31 00:00:00         1   \n",
       "\n",
       "  car_type  \n",
       "0        2  \n",
       "1        2  \n",
       "2        2  \n",
       "3        2  \n",
       "4        2  "
      ]
     },
     "execution_count": 21,
     "metadata": {},
     "output_type": "execute_result"
    }
   ],
   "source": [
    "df_related_log.head()"
   ]
  },
  {
   "cell_type": "code",
   "execution_count": null,
   "id": "bbc5c6bc-b554-48da-b5a4-8ff04ed72c19",
   "metadata": {},
   "outputs": [],
   "source": []
  }
 ],
 "metadata": {
  "kernelspec": {
   "display_name": "Python 3 (ipykernel)",
   "language": "python",
   "name": "python3"
  },
  "language_info": {
   "codemirror_mode": {
    "name": "ipython",
    "version": 3
   },
   "file_extension": ".py",
   "mimetype": "text/x-python",
   "name": "python",
   "nbconvert_exporter": "python",
   "pygments_lexer": "ipython3",
   "version": "3.8.13"
  }
 },
 "nbformat": 4,
 "nbformat_minor": 5
}
