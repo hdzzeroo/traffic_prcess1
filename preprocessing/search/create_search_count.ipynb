{
 "cells": [
  {
   "cell_type": "markdown",
   "id": "85d27369-a201-4d6d-8e2a-06af051b5e9b",
   "metadata": {},
   "source": [
    "このファイルについて\n",
    "- about\n",
    "    - 検索履歴データから館山道・関越道の各区間の5分単位の検索数を計算する\n",
    "- author: 松永\n",
    "- Input\n",
    "    - ../Input_processed_data/search_records/csv202xxx/*\n",
    "- Output\n",
    "    - 時間指定あり検索\n",
    "        - ../Input_processed_data/search_count/search-count_{tateyama or kannetsu}.csv\n",
    "    - 時間指定なし検索\n",
    "        - ../Input_processed_data/search_count/search-count_{tateyama or kannetsu}_unspecified.csv\""
   ]
  },
  {
   "cell_type": "code",
   "execution_count": 1,
   "id": "c1f97982-b882-40ad-a32e-16cb4360f862",
   "metadata": {
    "tags": []
   },
   "outputs": [],
   "source": [
    "import datetime as dt\n",
    "import os\n",
    "import pickle\n",
    "import time\n",
    "from typing import Dict, List, Optional, Set, Tuple\n",
    "\n",
    "import networkx as nx\n",
    "import numpy as np\n",
    "import pandas as pd\n",
    "import cudf\n",
    "# import warnings\n",
    "# warnings.simplefilter('ignore')"
   ]
  },
  {
   "cell_type": "code",
   "execution_count": 2,
   "id": "e4671dfa-3caa-460e-9cc2-5d7d98bf923c",
   "metadata": {},
   "outputs": [],
   "source": [
    "# data directory\n",
    "DATA_DIR = '../../Input_processed_data'\n",
    "\n",
    "# IC, 道路情報 csv\n",
    "IC_CSV = f'{DATA_DIR}/road_master/ic_preprocessed.csv'\n",
    "IC_NET_CSV = f'{DATA_DIR}/road_master/220303-doronet_ic.csv'\n",
    "IC_SUBNET_CSV = f'{DATA_DIR}/road_master/icnet_sub.csv'\n",
    "\n",
    "# 検索ログ csv\n",
    "SEARCH_LOG_DIR = lambda month: f'{DATA_DIR}/simple_search_records/csv{month}'\n",
    "SEARCH_LOG_CSV = lambda date: f'{SEARCH_LOG_DIR(date[:6])}/record_{date}.csv'"
   ]
  },
  {
   "cell_type": "markdown",
   "id": "3a068031-f055-4035-aa54-384957e7a1f4",
   "metadata": {},
   "source": [
    "# 準備"
   ]
  },
  {
   "cell_type": "markdown",
   "id": "389a3b79-97ea-4ef6-8499-46bded813fe2",
   "metadata": {},
   "source": [
    "## 道路構造データの読み込み"
   ]
  },
  {
   "cell_type": "code",
   "execution_count": 3,
   "id": "eeca744f-ae87-4eb2-aa52-4eb0b610e1d0",
   "metadata": {},
   "outputs": [],
   "source": [
    "# モジュール内で前処理済み\n",
    "df_ic = pd.read_csv(IC_CSV, dtype={'ic_code': str})\n",
    "df_icnet = pd.read_csv(IC_NET_CSV, dtype={'start_code': str, 'end_code': str, 'road_code': str})\n",
    "sub_icnet = pd.read_csv(IC_SUBNET_CSV, dtype={'start_code': str, 'end_code': str, 'road_code': str})\n",
    "\n",
    "code2name = dict(zip(df_ic['ic_code'], df_ic['ic_name']))\n",
    "name2code = {v: k for k, v in code2name.items()}\n",
    "\n",
    "ic_graph = nx.from_pandas_edgelist(\n",
    "    df_icnet, source='start_code', target='end_code',\n",
    "    edge_attr=['distance', 'road_code', 'direction'], create_using=nx.DiGraph())"
   ]
  },
  {
   "cell_type": "code",
   "execution_count": 4,
   "id": "ba8365b8-df16-4dde-b03f-44e82db4e3f1",
   "metadata": {},
   "outputs": [],
   "source": [
    "# 区間ごとの制限速度を格納したテーブル, Map を作成\n",
    "df_limits = sub_icnet.loc[:, ['start_code', 'end_code', 'start_name', 'end_name', 'road_code', 'limit']]\n",
    "limit_dict = {\n",
    "    (s_code, e_code): lim for s_code, e_code, lim in df_limits.loc[:, ['start_code', 'end_code', 'limit']].values\n",
    "}"
   ]
  },
  {
   "cell_type": "code",
   "execution_count": 5,
   "id": "4e201be5-4a51-4c38-bfd9-35d9e2ebb31d",
   "metadata": {},
   "outputs": [],
   "source": [
    "ic_nodes_set: set = set(code2name.keys())"
   ]
  },
  {
   "cell_type": "code",
   "execution_count": 6,
   "id": "88ab3167-73e7-4aff-9946-49c674b5f458",
   "metadata": {},
   "outputs": [],
   "source": [
    "# トラカンデータが持つ区間のdataframe\n",
    "tc_segments = pd.read_pickle(f'./traffic_counter_segments.pkl')\n",
    "tc_segments_set = set(\n",
    "    [tuple(segment) for segment in tc_segments.loc[:, ['start_code', 'end_code']].values]\n",
    ")"
   ]
  },
  {
   "cell_type": "markdown",
   "id": "8be239f3-92dc-41ff-b890-b98c6c3877b3",
   "metadata": {
    "tags": []
   },
   "source": [
    "## 最短経路オブジェクト`route_dict`の読み込み・書き出し"
   ]
  },
  {
   "cell_type": "code",
   "execution_count": 7,
   "id": "4ee512c0-a628-4984-9ef9-973e790b9cdf",
   "metadata": {},
   "outputs": [
    {
     "name": "stdout",
     "output_type": "stream",
     "text": [
      "Loading IC Routes...\n",
      "Finished.\n"
     ]
    }
   ],
   "source": [
    "fname = './route_dict.pkl'\n",
    "\n",
    "if os.path.exists(fname): # 経路マップがすでに存在しているとき、それを使う\n",
    "    with open(fname, 'rb') as f:\n",
    "        print('Loading IC Routes...')\n",
    "        route_dict = pickle.load(f)\n",
    "else: # 存在していなければ計算してバイナリで保存\n",
    "    print('Calculating IC Routes...')\n",
    "    route_dict = dict(nx.all_pairs_dijkstra_path(ic_graph, weight='distance'))\n",
    "    \n",
    "    with open(fname, 'wb') as f:\n",
    "        pickle.dump(route_dict, f)\n",
    "print('Finished.')"
   ]
  },
  {
   "cell_type": "code",
   "execution_count": 8,
   "id": "5365fa05-d521-4bc4-b209-19ec9f0f80df",
   "metadata": {},
   "outputs": [
    {
     "name": "stdout",
     "output_type": "stream",
     "text": [
      "3.4G\t./route_dict.pkl\n"
     ]
    }
   ],
   "source": [
    "! du -h ./route_dict.pkl"
   ]
  },
  {
   "cell_type": "markdown",
   "id": "69b065b3-875f-4c08-8ebf-834c281e19f4",
   "metadata": {
    "tags": []
   },
   "source": [
    "## 省略するICの集合を読み込む"
   ]
  },
  {
   "cell_type": "code",
   "execution_count": 9,
   "id": "a6a59f07-af7c-4e41-bddf-71a94dae529a",
   "metadata": {},
   "outputs": [],
   "source": [
    "with open('small_ic.pkl', 'rb') as f:\n",
    "    df_small_ic = pickle.load(f)\n",
    "\n",
    "small_ic_set = set(df_small_ic.ic_code)"
   ]
  },
  {
   "cell_type": "markdown",
   "id": "309067ff-fbf5-463b-9a84-8bcddbf4c6e3",
   "metadata": {},
   "source": [
    "# Functions"
   ]
  },
  {
   "cell_type": "markdown",
   "id": "12006c6a-1b9e-4077-9b17-44ba13a94542",
   "metadata": {},
   "source": [
    "## 経路計算"
   ]
  },
  {
   "cell_type": "code",
   "execution_count": 10,
   "id": "a0a0c8c9-63cd-44a4-b1d7-3e69e0d53765",
   "metadata": {},
   "outputs": [],
   "source": [
    "def __get_route(\n",
    "    src: str, dest: str, route_dict: Dict[str, Dict[str, List[str]]]\n",
    ") -> Optional[List[str]]:\n",
    "    if not (src in ic_nodes_set and dest in ic_nodes_set):\n",
    "        return []\n",
    "    try:\n",
    "        path = route_dict[src][dest]\n",
    "        return path\n",
    "    except: # 経路が存在しない, もしくはノードがグラフ上に存在しない場合\n",
    "        return []"
   ]
  },
  {
   "cell_type": "code",
   "execution_count": 11,
   "id": "8dc05512-3eab-47b3-8753-c67d8048ec52",
   "metadata": {
    "tags": []
   },
   "outputs": [],
   "source": [
    "def get_route(\n",
    "    src: str, \n",
    "    dest: str, \n",
    "    route_dict: Dict[str, Dict[str, List[str]]],\n",
    "    excluded_ic_set: Set[str] = set(),\n",
    ") -> List[str]:\n",
    "    '''\n",
    "    ic_graph上で出発地から目的地までの経路を得る関数\n",
    "\n",
    "    Parameters\n",
    "    --------------\n",
    "    src: 出発ICコード\n",
    "    dest: 目的ICコード\n",
    "    '''\n",
    "    path = __get_route(src, dest, route_dict=route_dict)\n",
    "    \n",
    "    if len(excluded_ic_set) > 0:\n",
    "        path = [ic for ic in path if ic not in excluded_ic_set]\n",
    "    return path"
   ]
  },
  {
   "cell_type": "code",
   "execution_count": 12,
   "id": "bbb4b2eb-0d09-48c4-99d3-24744ea540b5",
   "metadata": {
    "tags": []
   },
   "outputs": [],
   "source": [
    "def get_route_with_time(\n",
    "    src: str,\n",
    "    dest: str,\n",
    "    spec_datetime: dt.datetime,\n",
    "    spec_type: int,\n",
    "    route_dict: Dict[str, Dict[str, List[str]]],\n",
    "    excluded_ic_set: Set[str] = set(),\n",
    ") -> List[Tuple[str, dt.datetime]]:\n",
    "    '''\n",
    "    ic_graph上で出発地（src_name）から目的地（target_name）までの予想通過時刻付き経路を得る関数\n",
    "    '''\n",
    "    # 関越道・館山道 以外の道路の移動速度は80km/hと仮定する\n",
    "    DEFAULT_SPEED = 80\n",
    "    \n",
    "    path = __get_route(src, dest, route_dict=route_dict)\n",
    "\n",
    "    elapsed = dt.timedelta()\n",
    "    elapsed_time_list = [elapsed]\n",
    "    for i, (start, end) in enumerate(zip(path, path[1:])):\n",
    "        dist = ic_graph[start][end]['distance']\n",
    "        limit_speed = limit_dict.get((start, end), DEFAULT_SPEED)\n",
    "        \n",
    "        # 所要時間を積算\n",
    "        td = dt.timedelta(hours = dist / limit_speed)\n",
    "        elapsed += td\n",
    "        elapsed_time_list.append(elapsed)\n",
    "    \n",
    "    if spec_type == 1:\n",
    "        time_list = [spec_datetime + td for td in elapsed_time_list]\n",
    "    elif spec_type == 2:\n",
    "        time_list = [spec_datetime - td for td in elapsed_time_list[::-1]]\n",
    "    else:\n",
    "        time_list = [spec_datetime + td for td in elapsed_time_list]\n",
    "    \n",
    "    result = list(zip(path, time_list))\n",
    "    if len(excluded_ic_set) > 0:\n",
    "        result = [(ic, time) for (ic, time) in result if ic not in excluded_ic_set]\n",
    "    return result"
   ]
  },
  {
   "cell_type": "markdown",
   "id": "6390b49b-27a5-4be7-a42a-d9fd29eee553",
   "metadata": {},
   "source": [
    "## 検索ログの読み込み"
   ]
  },
  {
   "cell_type": "code",
   "execution_count": 13,
   "id": "eb5f60de-dbce-4bcd-a4d5-72f3ff72b843",
   "metadata": {},
   "outputs": [],
   "source": [
    "def str2date(date: str, format: str = '%Y%m%d') -> dt.date:\n",
    "    return dt.datetime.strptime(date, '%Y%m%d').date()"
   ]
  },
  {
   "cell_type": "code",
   "execution_count": 14,
   "id": "2f40d374-15bf-4521-8518-74ac414c4bd6",
   "metadata": {},
   "outputs": [],
   "source": [
    "def get_log(date: str) -> cudf.DataFrame:\n",
    "    type_map = {\n",
    "        'datetime': np.datetime64,\n",
    "        'start_code': 'category',\n",
    "        'end_code': 'category',\n",
    "        'spec_datetime': np.datetime64,\n",
    "        'spec_type': 'category',\n",
    "        'car_type': 'category'\n",
    "    }\n",
    "    if not os.path.exists(SEARCH_LOG_CSV(date)):\n",
    "        return cudf.DataFrame(columns=type_map.keys())\n",
    "\n",
    "    df = pd.read_csv(SEARCH_LOG_CSV(date)).astype(type_map)\n",
    "    df = df.loc[\n",
    "        (df.start_code.isin(ic_nodes_set)) &\n",
    "        (df.end_code.isin(ic_nodes_set))\n",
    "    ]\n",
    "    return cudf.from_pandas(df)"
   ]
  },
  {
   "cell_type": "code",
   "execution_count": 15,
   "id": "777466f0-06b7-4454-9dd6-1174b0778ac7",
   "metadata": {},
   "outputs": [],
   "source": [
    "def get_past_logs(date: str, periods: int, include_target: bool = False) -> cudf.DataFrame:\n",
    "    '''\n",
    "    指定日(target_date)から過去数日分の検索履歴データを取得する関数\n",
    "\n",
    "    Parameters\n",
    "    --------------\n",
    "    date: 混雑度算出の対象となる日付（文字列 or リスト)\n",
    "    periods: 過去何日分の履歴を参照するか\n",
    "    include_target: dateをデータに含めるかどうか\n",
    "    '''\n",
    "    # 参照すべき全日付のiterableを生成\n",
    "    if include_target:\n",
    "        dt_range = pd.date_range(end=date, periods=periods)\n",
    "    else:\n",
    "        dt_range = pd.date_range(end=date, periods=periods+1, closed='left')\n",
    "\n",
    "    DAYS = [d.strftime('%Y%m%d') for d in dt_range]\n",
    "\n",
    "    df_specified = cudf.DataFrame()\n",
    "    for d in DAYS:\n",
    "        df = get_log(d)\n",
    "        if len(df) == 0:\n",
    "            continue\n",
    "        \n",
    "        series_spec_date: pd.Series = df.spec_datetime.to_pandas().map(lambda dt: dt.date())\n",
    "        _df_specified = df.loc[series_spec_date == str2date(date)]\n",
    "        df_specified = cudf.concat([df_specified, _df_specified], ignore_index=True)\n",
    "    df_specified.reset_index(drop=True, inplace=True)\n",
    "    \n",
    "    if len(df_specified) == 0:\n",
    "        df_specified = cudf.DataFrame(columns=df.columns)\n",
    "    return df_specified"
   ]
  },
  {
   "cell_type": "code",
   "execution_count": 16,
   "id": "18031349-079e-401b-a9a4-dae14a76d69f",
   "metadata": {},
   "outputs": [],
   "source": [
    "def get_unspecified_log(date: str) -> cudf.DataFrame:\n",
    "    '''\n",
    "    検索履歴全体から時間指定なしの検索のみを得る関数\n",
    "    '''\n",
    "    ALLOWED_MINUTE_LAG = 15\n",
    "    \n",
    "    df = get_log(date)\n",
    "    # 検索日時と指定日時の差を秒単位で算出\n",
    "    t_diff = abs((df.datetime - df.spec_datetime) / np.timedelta64(1, 's'))\n",
    "    \n",
    "    # 事前に定義した時間差（=15分）より検索日時と指定日時の差が少ないレコードのみを抽出\n",
    "    df_unspecified = df.loc[t_diff < ALLOWED_MINUTE_LAG * 60].reset_index(drop=True)\n",
    "    return df_unspecified"
   ]
  },
  {
   "cell_type": "markdown",
   "id": "e5003f45-27fc-4455-abc4-85ea863ae02b",
   "metadata": {},
   "source": [
    "## 検索ログのマッピング"
   ]
  },
  {
   "cell_type": "code",
   "execution_count": 17,
   "id": "8f24db9e-5edb-4808-aadb-54262ee78ab4",
   "metadata": {
    "tags": []
   },
   "outputs": [],
   "source": [
    "def map_search_to_road_network(\n",
    "    df: cudf.DataFrame,\n",
    "    route_dict: Dict[str, Dict[str, List[str]]],\n",
    "    excluded_ic_set: Set[str] = set()\n",
    ") -> cudf.DataFrame:\n",
    "    '''\n",
    "    検索ログから各道路区間の予想通過時刻を計算する\n",
    "    '''\n",
    "    start_code_list = []\n",
    "    end_code_list = []\n",
    "    passing_time_list = []\n",
    "    \n",
    "    columns = ['start_code', 'end_code', 'spec_datetime', 'spec_type']\n",
    "    for (src, dest, spec_datetime, spec_type) in df.loc[:, columns].to_pandas().values:\n",
    "        path = get_route_with_time(\n",
    "            src, dest, spec_datetime, spec_type, \n",
    "            route_dict=route_dict, \n",
    "            excluded_ic_set=excluded_ic_set\n",
    "        )\n",
    "        for i, (start, end) in enumerate(zip(path, path[1:])):\n",
    "            s_code, e_code = start[0], end[0]\n",
    "            s_ptime = start[-1]\n",
    "            \n",
    "            if ic_graph[s_code][e_code]['road_code'] not in target_road_code_set:\n",
    "                break\n",
    "            \n",
    "            start_code_list.append(s_code)\n",
    "            end_code_list.append(e_code)\n",
    "            passing_time_list.append(s_ptime)\n",
    "            \n",
    "        if spec_type not in {1, 2} and len(path) > 0:\n",
    "            with open('./error_spec_type_records.csv', 'a') as f:\n",
    "                print(f'{s_ptime},{src},{dest},{spec_datetime},{spec_type}', file=f)\n",
    "                \n",
    "\n",
    "\n",
    "    return cudf.DataFrame({\n",
    "        'start_code': start_code_list,\n",
    "        'end_code': end_code_list,\n",
    "        'passing_time': passing_time_list,\n",
    "    }).astype({\n",
    "        'start_code': 'category',\n",
    "        'end_code': 'category'\n",
    "    })"
   ]
  },
  {
   "cell_type": "code",
   "execution_count": 18,
   "id": "60b8461c-7071-4cce-bb84-f6f5d9771c03",
   "metadata": {},
   "outputs": [],
   "source": [
    "def aggregate_search_count(df: cudf.DataFrame, timeslice: str = '5min') -> cudf.DataFrame:\n",
    "    # 検索量として積算される対象となるカラムを付与\n",
    "    result = df.assign(search=1)\n",
    "    \n",
    "    # timesliceでサンプリングし、検索量の和を取る\n",
    "    result = (result\n",
    "              .set_index('passing_time')\n",
    "              .to_pandas()\n",
    "              .groupby(['start_code', 'end_code'])\n",
    "              .apply(lambda g: g['search'].resample(timeslice).sum())\n",
    "              .reset_index())\n",
    "    return cudf.from_pandas(result)"
   ]
  },
  {
   "cell_type": "markdown",
   "id": "b845e445-127c-41c7-99dd-766e8ade3f73",
   "metadata": {
    "tags": []
   },
   "source": [
    "# 検索数の作成"
   ]
  },
  {
   "cell_type": "markdown",
   "id": "348c4fc9-4a55-4369-81e6-72ba8eda5e37",
   "metadata": {},
   "source": [
    "## 時間指定あり"
   ]
  },
  {
   "cell_type": "code",
   "execution_count": 3,
   "id": "fd879315-4d8b-42e0-8f36-f243da01ad94",
   "metadata": {},
   "outputs": [],
   "source": [
    "period_blocks = [\n",
    "    # ('20210402', '20210630'),\n",
    "    # ('20210701', '20210930'),\n",
    "    # ('20211001', '20211231'),\n",
    "    # ('20220101', '20220331'),\n",
    "    # ('20220401', '20220630'),\n",
    "    # ('20220701', '20220930'),\n",
    "    # ('20221001', '20221231'),\n",
    "    # ('20230101', '20230331'),\n",
    "    # ('20230401', '20230630'),\n",
    "    # ('20230701', '20230930'),\n",
    "    # ('20231001', '20231231'),\n",
    "    # ('20240101', '20240331'),\n",
    "    # ('20240401', '20240506'),\n",
    "    ('20240507', '20240831'),\n",
    "]"
   ]
  },
  {
   "cell_type": "code",
   "execution_count": 20,
   "id": "2338e9fe-3e0c-439f-985c-72f009e15156",
   "metadata": {},
   "outputs": [],
   "source": [
    "past_periods = 7\n",
    "timeslice = '5min'"
   ]
  },
  {
   "cell_type": "code",
   "execution_count": 22,
   "id": "75c6371c-f389-4c18-85bd-9c65ea95c9d2",
   "metadata": {
    "tags": []
   },
   "outputs": [
    {
     "name": "stdout",
     "output_type": "stream",
     "text": [
      "======================================== 20231001 -> 20231231 ========================================\n",
      "20231001 | 23040 records (44.858 sec)\n",
      "20231002 | 22998 records (28.883 sec)\n",
      "20231003 | 23039 records (21.484 sec)\n",
      "20231004 | 22938 records (25.599 sec)\n",
      "20231005 | 23003 records (30.324 sec)\n",
      "20231006 | 23040 records (52.718 sec)\n",
      "20231007 | 23040 records (92.813 sec)\n",
      "20231008 | 23013 records (61.426 sec)\n",
      "20231009 | 23000 records (41.731 sec)\n",
      "20231010 | 23040 records (34.777 sec)\n",
      "20231011 | 23032 records (31.604 sec)\n",
      "20231012 | 23040 records (25.117 sec)\n",
      "20231013 | 23040 records (43.544 sec)\n",
      "20231014 | 23040 records (62.643 sec)\n",
      "20231015 | 23025 records (40.475 sec)\n",
      "20231016 | 23040 records (42.361 sec)\n",
      "20231017 | 23039 records (23.844 sec)\n",
      "20231018 | 23034 records (29.595 sec)\n",
      "20231019 | 23011 records (28.092 sec)\n",
      "20231020 | 23040 records (38.007 sec)\n",
      "20231021 | 23040 records (71.533 sec)\n",
      "20231022 | 23039 records (49.722 sec)\n",
      "20231023 | 23038 records (33.119 sec)\n",
      "20231024 | 23040 records (29.142 sec)\n",
      "20231025 | 22937 records (28.379 sec)\n",
      "20231026 | 23037 records (27.958 sec)\n",
      "20231027 | 23040 records (36.944 sec)\n",
      "20231028 | 23040 records (68.115 sec)\n",
      "20231029 | 23025 records (38.907 sec)\n",
      "20231030 | 22980 records (30.461 sec)\n",
      "20231031 | 23024 records (27.300 sec)\n",
      "20231101 | 23040 records (28.249 sec)\n",
      "20231102 | 23040 records (39.741 sec)\n",
      "20231103 | 23040 records (101.701 sec)\n",
      "20231104 | 23015 records (49.856 sec)\n",
      "20231105 | 23040 records (42.332 sec)\n",
      "20231106 | 23040 records (31.248 sec)\n",
      "20231107 | 22984 records (29.432 sec)\n",
      "20231108 | 22980 records (21.731 sec)\n",
      "20231109 | 23001 records (30.237 sec)\n",
      "20231110 | 23039 records (33.171 sec)\n",
      "20231111 | 23040 records (63.125 sec)\n",
      "20231112 | 23031 records (39.539 sec)\n",
      "20231113 | 23037 records (29.281 sec)\n",
      "20231114 | 23024 records (25.951 sec)\n",
      "20231115 | 23036 records (28.313 sec)\n",
      "20231116 | 23033 records (25.296 sec)\n",
      "20231117 | 23032 records (31.603 sec)\n",
      "20231118 | 23040 records (54.613 sec)\n",
      "20231119 | 23035 records (34.747 sec)\n",
      "20231120 | 23039 records (28.081 sec)\n",
      "20231121 | 22967 records (28.141 sec)\n",
      "20231122 | 23040 records (23.022 sec)\n",
      "20231123 | 23035 records (56.207 sec)\n",
      "20231124 | 23040 records (41.229 sec)\n",
      "20231125 | 23040 records (46.347 sec)\n",
      "20231126 | 23024 records (34.756 sec)\n",
      "20231127 | 22992 records (26.876 sec)\n",
      "20231128 | 23025 records (23.001 sec)\n",
      "20231129 | 23033 records (21.585 sec)\n",
      "20231130 | 23020 records (17.391 sec)\n",
      "20231201 | 22998 records (27.196 sec)\n",
      "20231202 | 23038 records (40.491 sec)\n",
      "20231203 | 22984 records (29.196 sec)\n",
      "20231204 | 23010 records (24.178 sec)\n",
      "20231205 | 22333 records (20.582 sec)\n",
      "20231206 | 23033 records (13.184 sec)\n",
      "20231207 | 22962 records (22.621 sec)\n",
      "20231208 | 23040 records (27.036 sec)\n",
      "20231209 | 23040 records (42.157 sec)\n",
      "20231210 | 23011 records (22.429 sec)\n",
      "20231211 | 23039 records (23.542 sec)\n",
      "20231212 | 23031 records (18.956 sec)\n",
      "20231213 | 23039 records (14.154 sec)\n",
      "20231214 | 22954 records (18.378 sec)\n",
      "20231215 | 23037 records (23.065 sec)\n",
      "20231216 | 23040 records (30.957 sec)\n",
      "20231217 | 22940 records (28.319 sec)\n",
      "20231218 | 22806 records (22.180 sec)\n",
      "20231219 | 22352 records (13.150 sec)\n",
      "20231220 | 22997 records (21.694 sec)\n",
      "20231221 | 23024 records (19.304 sec)\n",
      "20231222 | 23040 records (17.183 sec)\n",
      "20231223 | 23039 records (36.625 sec)\n",
      "20231224 | 23005 records (25.445 sec)\n",
      "20231225 | 22920 records (22.317 sec)\n",
      "20231226 | 23035 records (17.370 sec)\n",
      "20231227 | 23030 records (26.392 sec)\n",
      "20231228 | 23040 records (43.557 sec)\n",
      "20231229 | 23040 records (57.759 sec)\n",
      "20231230 | 23040 records (51.705 sec)\n",
      "20231231 | 23040 records (31.799 sec)\n"
     ]
    }
   ],
   "source": [
    "for start_date, end_date in period_blocks:\n",
    "    print('='*40, f'{start_date} -> {end_date}', '='*40)\n",
    "    \n",
    "    DAYS: List[str] = [\n",
    "        d.strftime('%Y%m%d') for d in pd.date_range(start_date, end_date, freq='1D')\n",
    "    ]\n",
    "    \n",
    "    df_search = cudf.DataFrame()\n",
    "    for i, date in enumerate(DAYS):\n",
    "        s = time.time()\n",
    "        \n",
    "        df = get_past_logs(date, periods=past_periods)\n",
    "        \n",
    "        df_mapped = map_search_to_road_network(\n",
    "            df, route_dict, excluded_ic_set=small_ic_set\n",
    "        )\n",
    "        df_mapped = df_mapped.loc[\n",
    "            df_mapped.loc[:, ['start_code', 'end_code']].to_pandas().apply(\n",
    "                lambda segment: tuple(segment) in tc_segments_set, axis=1\n",
    "            )\n",
    "        ].reset_index(drop=True)\n",
    "        \n",
    "        _df_search = aggregate_search_count(df_mapped, timeslice)\n",
    "        _df_search = cudf.from_pandas(\n",
    "            _df_search.set_index('passing_time').to_pandas().loc[date]\n",
    "        ).reset_index()\n",
    "\n",
    "        print(f'{date} | {len(_df_search)} records ({time.time() - s:.3f} sec)')\n",
    "\n",
    "        df_search = cudf.concat([df_search, _df_search], ignore_index=True)\n",
    "\n",
    "    df_search.reset_index(inplace=True, drop=True)\n",
    "    OUTPUT_FILE = f'./search_count/search-count_specified_{start_date}-{end_date}.csv'\n",
    "    df_search.to_pandas().to_csv(OUTPUT_FILE, index=False)"
   ]
  },
  {
   "cell_type": "code",
   "execution_count": 23,
   "id": "c38fb2bf-c895-4188-923e-8fe0e7a4b2f8",
   "metadata": {},
   "outputs": [
    {
     "name": "stdout",
     "output_type": "stream",
     "text": [
      "passing_time,start_code,end_code,search\n",
      "2023-10-01 00:00:00,1040013,1040016,24\n",
      "2023-10-01 00:05:00,1040013,1040016,2\n",
      "2023-10-01 00:10:00,1040013,1040016,1\n",
      "2023-10-01 00:15:00,1040013,1040016,3\n"
     ]
    }
   ],
   "source": [
    "!head -n5 \"$OUTPUT_FILE\""
   ]
  },
  {
   "cell_type": "code",
   "execution_count": 25,
   "id": "b30094cb-c478-4dc1-8b80-f367ee8b71c6",
   "metadata": {},
   "outputs": [
    {
     "name": "stdout",
     "output_type": "stream",
     "text": [
      "2023-12-31 23:35:00,1800106,1800111,0\n",
      "2023-12-31 23:40:00,1800106,1800111,0\n",
      "2023-12-31 23:45:00,1800106,1800111,0\n",
      "2023-12-31 23:50:00,1800106,1800111,0\n",
      "2023-12-31 23:55:00,1800106,1800111,0\n"
     ]
    }
   ],
   "source": [
    "!tail -n5 \"$OUTPUT_FILE\""
   ]
  },
  {
   "cell_type": "markdown",
   "id": "6b964ee9-4a8a-472a-b6a5-4c1291d6d544",
   "metadata": {},
   "source": [
    "## 時間指定なし"
   ]
  },
  {
   "cell_type": "code",
   "execution_count": 22,
   "id": "d26459b4-cf87-4c76-ba6f-33c4dca5fa54",
   "metadata": {},
   "outputs": [],
   "source": [
    "period_blocks = [\n",
    "    # ('20210402', '20210630'),\n",
    "    # ('20210701', '20210930'),\n",
    "    # ('20211001', '20211231'),\n",
    "    # ('20220101', '20220331'),\n",
    "    # ('20220401', '20220630'),\n",
    "    # ('20220701', '20220930'),\n",
    "    # ('20221001', '20221231'),\n",
    "    # ('20230101', '20230331'),\n",
    "    # ('20230401', '20230630'),\n",
    "    # ('20230701', '20230930'),\n",
    "    # ('20231001', '20231231'),\n",
    "    # ('20240101', '20240331'),\n",
    "    # ('20240401', '20240506'),\n",
    "    ()\n",
    "]"
   ]
  },
  {
   "cell_type": "code",
   "execution_count": 23,
   "id": "fc5a634e-f0ea-4c6d-8cd6-67d7d1768fc9",
   "metadata": {},
   "outputs": [],
   "source": [
    "def aggregate_search_count(df: cudf.DataFrame) -> cudf.DataFrame:\n",
    "    # 検索量として積算される対象となるカラムを付与\n",
    "    result = df.assign(search=1)\n",
    "    \n",
    "    # timesliceでサンプリングし、検索量の和を取る\n",
    "    result = (result\n",
    "              .set_index('passing_time')\n",
    "              .to_pandas()\n",
    "              .groupby(['start_code', 'end_code'])\n",
    "              .apply(lambda g: g['search'].sum())\n",
    "              .reset_index()\n",
    "              .rename(columns={0: 'search'}))\n",
    "    return cudf.from_pandas(result)"
   ]
  },
  {
   "cell_type": "code",
   "execution_count": 24,
   "id": "0dafd6fb-a025-4433-84f6-bb6bd718cc1a",
   "metadata": {},
   "outputs": [],
   "source": [
    "def shift_unspecified_search_count(df: pd.DataFrame) -> pd.DataFrame:\n",
    "    '''\n",
    "    時間指定なし検索を1日後ろにシフトする\n",
    "    '''\n",
    "    SHIFT_DAYS = 1\n",
    "    \n",
    "    result = (df.set_index('search_date')\n",
    "              .groupby(['start_code', 'end_code'])\n",
    "              .apply(lambda g: g.search.shift(SHIFT_DAYS))\n",
    "               # shift後にpivot_tableっぽくなってしまう（通常はpd.Series）ため、特別に処理\n",
    "              .pipe(lambda _df: _df.stack().rename('search') if not isinstance(_df, pd.Series) else _df)\n",
    "              .reset_index()\n",
    "              .sort_values(['search_date', 'start_code', 'end_code'])\n",
    "              .reset_index(drop=True)\n",
    "              .loc[:, ['search_date', 'start_code', 'end_code', 'search']])\n",
    "    return result"
   ]
  },
  {
   "cell_type": "code",
   "execution_count": 25,
   "id": "da30f14b-f623-4ad1-947e-21b6009463a4",
   "metadata": {},
   "outputs": [],
   "source": [
    "def generate_date_list_from_1day_before(start_date, end_date):\n",
    "    '''\n",
    "    start_dateの1日前からend_dateまでの日付リストを生成する\n",
    "    '''\n",
    "    _start = pd.to_datetime(start_date) - pd.Timedelta(days=1)\n",
    "    _end = pd.to_datetime(end_date)\n",
    "    \n",
    "    date_list: List[str] = [\n",
    "        date.strftime('%Y%m%d') for date in pd.date_range(_start, _end, freq='1D')\n",
    "    ]\n",
    "    return date_list"
   ]
  },
  {
   "cell_type": "code",
   "execution_count": 26,
   "id": "09f48c6b-8dc9-4bd5-bc21-77fd3a2f07ca",
   "metadata": {},
   "outputs": [
    {
     "name": "stdout",
     "output_type": "stream",
     "text": [
      "======================================== 20231001 -> 20231231 ========================================\n",
      "20230930 [251.880 sec]\n",
      "20231001 [157.561 sec]\n",
      "20231002 [124.572 sec]\n",
      "20231003 [173.768 sec]\n",
      "20231004 [214.526 sec]\n",
      "20231005 [170.424 sec]\n",
      "20231006 [136.277 sec]\n",
      "20231007 [124.961 sec]\n",
      "20231008 [130.987 sec]\n",
      "20231009 [130.516 sec]\n",
      "20231010 [137.944 sec]\n",
      "20231011 [113.512 sec]\n",
      "20231012 [73.810 sec]\n",
      "20231013 [112.181 sec]\n",
      "20231014 [129.665 sec]\n",
      "20231015 [123.401 sec]\n",
      "20231016 [132.482 sec]\n",
      "20231017 [116.800 sec]\n",
      "20231018 [123.116 sec]\n",
      "20231019 [123.924 sec]\n",
      "20231020 [120.303 sec]\n",
      "20231021 [111.830 sec]\n",
      "20231022 [112.341 sec]\n",
      "20231023 [111.482 sec]\n",
      "20231024 [123.755 sec]\n",
      "20231025 [111.501 sec]\n",
      "20231026 [99.570 sec]\n",
      "20231027 [110.472 sec]\n",
      "20231028 [115.440 sec]\n",
      "20231029 [119.974 sec]\n",
      "20231031 [152.805 sec]\n",
      "20231101 [141.833 sec]\n",
      "20231102 [134.734 sec]\n",
      "20231103 [123.683 sec]\n",
      "20231104 [112.474 sec]\n",
      "20231105 [113.433 sec]\n",
      "20231106 [145.247 sec]\n",
      "20231107 [126.319 sec]\n",
      "20231108 [130.744 sec]\n",
      "20231109 [126.439 sec]\n",
      "20231110 [142.079 sec]\n",
      "20231111 [123.064 sec]\n",
      "20231112 [136.769 sec]\n",
      "20231113 [132.268 sec]\n",
      "20231114 [121.098 sec]\n",
      "20231115 [133.241 sec]\n",
      "20231116 [139.141 sec]\n",
      "20231117 [103.579 sec]\n",
      "20231118 [100.299 sec]\n",
      "20231119 [126.000 sec]\n",
      "20231121 [148.001 sec]\n",
      "20231122 [138.954 sec]\n",
      "20231123 [128.608 sec]\n",
      "20231124 [139.023 sec]\n",
      "20231125 [143.148 sec]\n",
      "20231126 [116.995 sec]\n",
      "20231127 [130.394 sec]\n",
      "20231128 [138.695 sec]\n",
      "20231129 [143.190 sec]\n",
      "20231130 [131.547 sec]\n",
      "20231201 [126.694 sec]\n",
      "20231202 [89.098 sec]\n",
      "20231203 [82.942 sec]\n",
      "20231204 [88.909 sec]\n",
      "20231205 [95.311 sec]\n",
      "20231206 [99.436 sec]\n",
      "20231207 [88.075 sec]\n",
      "20231208 [94.560 sec]\n",
      "20231209 [80.565 sec]\n",
      "20231210 [72.162 sec]\n",
      "20231211 [85.099 sec]\n",
      "20231212 [78.888 sec]\n",
      "20231213 [84.345 sec]\n",
      "20231214 [77.224 sec]\n",
      "20231215 [84.406 sec]\n",
      "20231216 [81.542 sec]\n",
      "20231217 [68.406 sec]\n",
      "20231218 [88.728 sec]\n",
      "20231219 [87.101 sec]\n",
      "20231220 [86.387 sec]\n",
      "20231221 [89.411 sec]\n",
      "20231222 [80.517 sec]\n",
      "20231223 [77.682 sec]\n",
      "20231224 [74.341 sec]\n",
      "20231225 [82.503 sec]\n",
      "20231226 [85.660 sec]\n",
      "20231227 [78.835 sec]\n",
      "20231228 [83.854 sec]\n",
      "20231229 [81.260 sec]\n",
      "20231230 [76.243 sec]\n",
      "20231231 [79.113 sec]\n",
      "======================================== 20240101 -> 20240331 ========================================\n",
      "20231231 [73.766 sec]\n",
      "20240101 [80.197 sec]\n",
      "20240102 [92.732 sec]\n",
      "20240103 [85.595 sec]\n",
      "20240104 [81.872 sec]\n",
      "20240105 [101.737 sec]\n",
      "20240106 [100.103 sec]\n",
      "20240107 [83.488 sec]\n",
      "20240108 [87.587 sec]\n",
      "20240109 [95.402 sec]\n",
      "20240110 [100.428 sec]\n",
      "20240111 [103.531 sec]\n",
      "20240112 [88.354 sec]\n",
      "20240113 [89.838 sec]\n",
      "20240114 [74.768 sec]\n",
      "20240115 [103.661 sec]\n",
      "20240116 [98.622 sec]\n",
      "20240117 [109.976 sec]\n",
      "20240118 [109.515 sec]\n",
      "20240119 [110.675 sec]\n",
      "20240120 [89.123 sec]\n",
      "20240121 [88.113 sec]\n",
      "20240122 [103.554 sec]\n",
      "20240123 [94.117 sec]\n",
      "20240124 [93.680 sec]\n",
      "20240125 [83.373 sec]\n",
      "20240126 [84.496 sec]\n",
      "20240127 [70.390 sec]\n",
      "20240128 [65.256 sec]\n",
      "20240129 [75.580 sec]\n",
      "20240130 [82.038 sec]\n",
      "20240131 [74.210 sec]\n",
      "20240201 [75.933 sec]\n",
      "20240202 [77.210 sec]\n",
      "20240203 [75.291 sec]\n",
      "20240204 [80.643 sec]\n",
      "20240205 [83.628 sec]\n",
      "20240206 [87.057 sec]\n",
      "20240207 [72.743 sec]\n",
      "20240208 [76.457 sec]\n",
      "20240209 [84.104 sec]\n",
      "20240210 [80.441 sec]\n",
      "20240211 [74.149 sec]\n",
      "20240212 [75.184 sec]\n",
      "20240213 [86.337 sec]\n",
      "20240214 [79.906 sec]\n",
      "20240215 [73.395 sec]\n",
      "20240216 [72.507 sec]\n",
      "20240217 [67.151 sec]\n",
      "20240218 [60.253 sec]\n",
      "20240219 [70.743 sec]\n",
      "20240220 [73.131 sec]\n",
      "20240221 [63.460 sec]\n",
      "20240222 [65.608 sec]\n",
      "20240223 [63.484 sec]\n",
      "20240224 [73.462 sec]\n",
      "20240225 [62.693 sec]\n",
      "20240226 [79.835 sec]\n",
      "20240227 [73.365 sec]\n",
      "20240228 [75.725 sec]\n",
      "20240229 [74.378 sec]\n",
      "20240301 [69.296 sec]\n",
      "20240302 [73.442 sec]\n",
      "20240303 [68.060 sec]\n",
      "20240304 [69.519 sec]\n",
      "20240305 [73.154 sec]\n",
      "20240306 [73.201 sec]\n",
      "20240307 [80.127 sec]\n",
      "20240308 [80.472 sec]\n",
      "20240309 [70.681 sec]\n",
      "20240310 [60.716 sec]\n",
      "20240311 [74.492 sec]\n",
      "20240312 [82.015 sec]\n",
      "20240313 [79.464 sec]\n",
      "20240314 [76.635 sec]\n",
      "20240315 [76.157 sec]\n",
      "20240316 [55.158 sec]\n",
      "20240317 [65.547 sec]\n",
      "20240318 [67.051 sec]\n",
      "20240319 [62.343 sec]\n",
      "20240320 [57.642 sec]\n",
      "20240321 [71.553 sec]\n",
      "20240322 [62.224 sec]\n",
      "20240323 [68.682 sec]\n",
      "20240324 [63.276 sec]\n",
      "20240325 [69.880 sec]\n",
      "20240326 [74.313 sec]\n",
      "20240327 [87.008 sec]\n",
      "20240328 [82.538 sec]\n",
      "20240329 [92.970 sec]\n",
      "20240330 [65.039 sec]\n",
      "20240331 [66.802 sec]\n",
      "======================================== 20240401 -> 20240506 ========================================\n",
      "20240331 [61.181 sec]\n",
      "20240401 [92.608 sec]\n",
      "20240402 [92.561 sec]\n",
      "20240403 [83.129 sec]\n",
      "20240404 [91.786 sec]\n",
      "20240405 [82.071 sec]\n",
      "20240406 [82.657 sec]\n",
      "20240407 [72.218 sec]\n",
      "20240408 [91.111 sec]\n",
      "20240409 [94.077 sec]\n",
      "20240410 [92.230 sec]\n",
      "20240411 [83.289 sec]\n",
      "20240412 [87.935 sec]\n",
      "20240413 [72.983 sec]\n",
      "20240414 [85.095 sec]\n",
      "20240415 [97.638 sec]\n",
      "20240416 [95.546 sec]\n",
      "20240417 [99.196 sec]\n",
      "20240418 [98.639 sec]\n",
      "20240419 [100.842 sec]\n",
      "20240420 [90.327 sec]\n",
      "20240421 [89.129 sec]\n",
      "20240422 [109.075 sec]\n",
      "20240423 [105.934 sec]\n",
      "20240424 [101.054 sec]\n",
      "20240425 [111.643 sec]\n",
      "20240426 [97.398 sec]\n",
      "20240427 [101.211 sec]\n",
      "20240428 [100.776 sec]\n",
      "20240429 [107.471 sec]\n",
      "20240430 [99.979 sec]\n",
      "20240501 [107.081 sec]\n",
      "20240502 [125.086 sec]\n",
      "20240503 [90.402 sec]\n",
      "20240504 [94.019 sec]\n",
      "20240505 [108.237 sec]\n",
      "20240506 [117.220 sec]\n"
     ]
    }
   ],
   "source": [
    "for start_date, end_date in period_blocks:\n",
    "    print('='*40, f'{start_date} -> {end_date}', '='*40)\n",
    "\n",
    "    DAYS = generate_date_list_from_1day_before(start_date, end_date)\n",
    "    \n",
    "    df_search = cudf.DataFrame()\n",
    "    for i, date in enumerate(DAYS):\n",
    "        s = time.time()\n",
    "        \n",
    "        df = get_unspecified_log(date)\n",
    "        \n",
    "        df_mapped = map_search_to_road_network(\n",
    "            df, route_dict, excluded_ic_set=small_ic_set\n",
    "        )\n",
    "        df_mapped = df_mapped.loc[\n",
    "            df_mapped.loc[:, ['start_code', 'end_code']].to_pandas().apply(\n",
    "                lambda segment: tuple(segment) in tc_segments_set, axis=1\n",
    "            )\n",
    "        ].reset_index(drop=True)\n",
    "        \n",
    "        _df_search = aggregate_search_count(df_mapped)\n",
    "        _df_search = (_df_search\n",
    "                      .assign(search_date=str2date(date).strftime('%Y-%m-%d'))\n",
    "                      .loc[:, ['search_date', 'start_code', 'end_code', 'search']])\n",
    "\n",
    "        print(f'{date} [{time.time() - s:.3f} sec]')\n",
    "\n",
    "        df_search = cudf.concat([df_search, _df_search], ignore_index=True)\n",
    "    \n",
    "    df_search_shifted = shift_unspecified_search_count(df_search.to_pandas())\n",
    "\n",
    "    OUTPUT_FILE = f'./search_count/search-count_unspecified_{start_date}-{end_date}.csv'\n",
    "    df_search_shifted.to_csv(OUTPUT_FILE, index=False)"
   ]
  },
  {
   "cell_type": "code",
   "execution_count": 27,
   "id": "88ac69a1-db23-4915-82f2-7ed9757cda3a",
   "metadata": {},
   "outputs": [
    {
     "name": "stdout",
     "output_type": "stream",
     "text": [
      "search_date,start_code,end_code,search\n",
      "2024-04-01,1040013,1040016,5344.0\n",
      "2024-04-01,1040016,1040013,5032.0\n",
      "2024-04-01,1040016,1040020,6154.0\n",
      "2024-04-01,1040020,1040016,4996.0\n"
     ]
    }
   ],
   "source": [
    "!head -n5 \"$OUTPUT_FILE\""
   ]
  },
  {
   "cell_type": "code",
   "execution_count": 28,
   "id": "3d80e39a-4760-4aec-a47b-76a2f1a7cf1f",
   "metadata": {},
   "outputs": [
    {
     "name": "stdout",
     "output_type": "stream",
     "text": [
      "2024-05-06,1800091,1800096,4120.0\n",
      "2024-05-06,1800096,1800091,3638.0\n",
      "2024-05-06,1800096,1800106,4069.0\n",
      "2024-05-06,1800106,1800096,3621.0\n",
      "2024-05-06,1800106,1800111,4021.0\n"
     ]
    }
   ],
   "source": [
    "!tail -n5 \"$OUTPUT_FILE\""
   ]
  },
  {
   "cell_type": "markdown",
   "id": "ed53bda1-a223-4e00-877b-3b23681e36d0",
   "metadata": {
    "tags": []
   },
   "source": [
    "# 好きなように期間を分割する"
   ]
  },
  {
   "cell_type": "markdown",
   "id": "52eac0e1-b240-46dc-b1ed-09c178500257",
   "metadata": {},
   "source": [
    "期間のとり方\n",
    "- 2021/04/01 〜 2022/03/31\n",
    "- 2022/04/01 〜 2023/03/31\n",
    "- 2023/04/01 〜 2023/09/30\n",
    "- 2023/10/01 ~ 2024/03/31（推論補助用）\n",
    "- 2024/04/01 ~ 2024/05/06（最終評価用）"
   ]
  },
  {
   "cell_type": "markdown",
   "id": "57722c6c-93d8-4020-a31e-f0e3d25ec013",
   "metadata": {},
   "source": [
    "## 時間指定あり"
   ]
  },
  {
   "cell_type": "code",
   "execution_count": 31,
   "id": "5ee3c816-4590-440c-9b5f-124ddbf561f9",
   "metadata": {},
   "outputs": [],
   "source": [
    "dtype = {'start_code': 'category', 'end_code': 'category'}\n",
    "\n",
    "# 時間指定あり\n",
    "# df1 = pd.read_csv(f'./search_count/search-count_specified_20231001-20231231.csv', dtype=dtype)\n",
    "# df2 = pd.read_csv(f'./search_count/search-count_specified_20240101-20240331.csv', dtype=dtype)\n",
    "\n",
    "# df1.passing_time = pd.to_datetime(df1.passing_time)\n",
    "# df2.passing_time = pd.to_datetime(df2.passing_time)\n",
    "\n",
    "# 時間指定なし\n",
    "df1 = pd.read_csv(f'./search_count/search-count_unspecified_20231001-20231231.csv', dtype=dtype)\n",
    "df2 = pd.read_csv(f'./search_count/search-count_unspecified_20240101-20240331.csv', dtype=dtype)"
   ]
  },
  {
   "cell_type": "code",
   "execution_count": 32,
   "id": "56ccd30c-8c76-4a05-ac0d-7b5980e0579c",
   "metadata": {},
   "outputs": [
    {
     "data": {
      "text/html": [
       "<div>\n",
       "<style scoped>\n",
       "    .dataframe tbody tr th:only-of-type {\n",
       "        vertical-align: middle;\n",
       "    }\n",
       "\n",
       "    .dataframe tbody tr th {\n",
       "        vertical-align: top;\n",
       "    }\n",
       "\n",
       "    .dataframe thead th {\n",
       "        text-align: right;\n",
       "    }\n",
       "</style>\n",
       "<table border=\"1\" class=\"dataframe\">\n",
       "  <thead>\n",
       "    <tr style=\"text-align: right;\">\n",
       "      <th></th>\n",
       "      <th>search_date</th>\n",
       "      <th>start_code</th>\n",
       "      <th>end_code</th>\n",
       "      <th>search</th>\n",
       "    </tr>\n",
       "  </thead>\n",
       "  <tbody>\n",
       "    <tr>\n",
       "      <th>0</th>\n",
       "      <td>2023-10-01</td>\n",
       "      <td>1040013</td>\n",
       "      <td>1040016</td>\n",
       "      <td>9381.0</td>\n",
       "    </tr>\n",
       "    <tr>\n",
       "      <th>1</th>\n",
       "      <td>2023-10-01</td>\n",
       "      <td>1040016</td>\n",
       "      <td>1040013</td>\n",
       "      <td>8807.0</td>\n",
       "    </tr>\n",
       "    <tr>\n",
       "      <th>2</th>\n",
       "      <td>2023-10-01</td>\n",
       "      <td>1040016</td>\n",
       "      <td>1040020</td>\n",
       "      <td>9988.0</td>\n",
       "    </tr>\n",
       "  </tbody>\n",
       "</table>\n",
       "</div>"
      ],
      "text/plain": [
       "  search_date start_code end_code  search\n",
       "0  2023-10-01    1040013  1040016  9381.0\n",
       "1  2023-10-01    1040016  1040013  8807.0\n",
       "2  2023-10-01    1040016  1040020  9988.0"
      ]
     },
     "execution_count": 32,
     "metadata": {},
     "output_type": "execute_result"
    }
   ],
   "source": [
    "df1.head(3)"
   ]
  },
  {
   "cell_type": "code",
   "execution_count": 33,
   "id": "6345047e-37f4-49ed-8ad9-76ca2e59cf78",
   "metadata": {},
   "outputs": [
    {
     "data": {
      "text/html": [
       "<div>\n",
       "<style scoped>\n",
       "    .dataframe tbody tr th:only-of-type {\n",
       "        vertical-align: middle;\n",
       "    }\n",
       "\n",
       "    .dataframe tbody tr th {\n",
       "        vertical-align: top;\n",
       "    }\n",
       "\n",
       "    .dataframe thead th {\n",
       "        text-align: right;\n",
       "    }\n",
       "</style>\n",
       "<table border=\"1\" class=\"dataframe\">\n",
       "  <thead>\n",
       "    <tr style=\"text-align: right;\">\n",
       "      <th></th>\n",
       "      <th>search_date</th>\n",
       "      <th>start_code</th>\n",
       "      <th>end_code</th>\n",
       "      <th>search</th>\n",
       "    </tr>\n",
       "  </thead>\n",
       "  <tbody>\n",
       "    <tr>\n",
       "      <th>7357</th>\n",
       "      <td>2023-12-31</td>\n",
       "      <td>1800096</td>\n",
       "      <td>1800106</td>\n",
       "      <td>2938.0</td>\n",
       "    </tr>\n",
       "    <tr>\n",
       "      <th>7358</th>\n",
       "      <td>2023-12-31</td>\n",
       "      <td>1800106</td>\n",
       "      <td>1800096</td>\n",
       "      <td>1692.0</td>\n",
       "    </tr>\n",
       "    <tr>\n",
       "      <th>7359</th>\n",
       "      <td>2023-12-31</td>\n",
       "      <td>1800106</td>\n",
       "      <td>1800111</td>\n",
       "      <td>2890.0</td>\n",
       "    </tr>\n",
       "  </tbody>\n",
       "</table>\n",
       "</div>"
      ],
      "text/plain": [
       "     search_date start_code end_code  search\n",
       "7357  2023-12-31    1800096  1800106  2938.0\n",
       "7358  2023-12-31    1800106  1800096  1692.0\n",
       "7359  2023-12-31    1800106  1800111  2890.0"
      ]
     },
     "execution_count": 33,
     "metadata": {},
     "output_type": "execute_result"
    }
   ],
   "source": [
    "df1.tail(3)"
   ]
  },
  {
   "cell_type": "code",
   "execution_count": 34,
   "id": "990b6ce3-7b35-4b2e-aa84-f61dd417eb73",
   "metadata": {},
   "outputs": [
    {
     "data": {
      "text/html": [
       "<div>\n",
       "<style scoped>\n",
       "    .dataframe tbody tr th:only-of-type {\n",
       "        vertical-align: middle;\n",
       "    }\n",
       "\n",
       "    .dataframe tbody tr th {\n",
       "        vertical-align: top;\n",
       "    }\n",
       "\n",
       "    .dataframe thead th {\n",
       "        text-align: right;\n",
       "    }\n",
       "</style>\n",
       "<table border=\"1\" class=\"dataframe\">\n",
       "  <thead>\n",
       "    <tr style=\"text-align: right;\">\n",
       "      <th></th>\n",
       "      <th>search_date</th>\n",
       "      <th>start_code</th>\n",
       "      <th>end_code</th>\n",
       "      <th>search</th>\n",
       "    </tr>\n",
       "  </thead>\n",
       "  <tbody>\n",
       "    <tr>\n",
       "      <th>0</th>\n",
       "      <td>2024-01-01</td>\n",
       "      <td>1040013</td>\n",
       "      <td>1040016</td>\n",
       "      <td>4997.0</td>\n",
       "    </tr>\n",
       "    <tr>\n",
       "      <th>1</th>\n",
       "      <td>2024-01-01</td>\n",
       "      <td>1040016</td>\n",
       "      <td>1040013</td>\n",
       "      <td>4824.0</td>\n",
       "    </tr>\n",
       "    <tr>\n",
       "      <th>2</th>\n",
       "      <td>2024-01-01</td>\n",
       "      <td>1040016</td>\n",
       "      <td>1040020</td>\n",
       "      <td>5703.0</td>\n",
       "    </tr>\n",
       "  </tbody>\n",
       "</table>\n",
       "</div>"
      ],
      "text/plain": [
       "  search_date start_code end_code  search\n",
       "0  2024-01-01    1040013  1040016  4997.0\n",
       "1  2024-01-01    1040016  1040013  4824.0\n",
       "2  2024-01-01    1040016  1040020  5703.0"
      ]
     },
     "execution_count": 34,
     "metadata": {},
     "output_type": "execute_result"
    }
   ],
   "source": [
    "df2.head(3)"
   ]
  },
  {
   "cell_type": "code",
   "execution_count": 35,
   "id": "b936ba4d-44c8-4238-bbca-6c6cda05b98f",
   "metadata": {},
   "outputs": [
    {
     "data": {
      "text/html": [
       "<div>\n",
       "<style scoped>\n",
       "    .dataframe tbody tr th:only-of-type {\n",
       "        vertical-align: middle;\n",
       "    }\n",
       "\n",
       "    .dataframe tbody tr th {\n",
       "        vertical-align: top;\n",
       "    }\n",
       "\n",
       "    .dataframe thead th {\n",
       "        text-align: right;\n",
       "    }\n",
       "</style>\n",
       "<table border=\"1\" class=\"dataframe\">\n",
       "  <thead>\n",
       "    <tr style=\"text-align: right;\">\n",
       "      <th></th>\n",
       "      <th>search_date</th>\n",
       "      <th>start_code</th>\n",
       "      <th>end_code</th>\n",
       "      <th>search</th>\n",
       "    </tr>\n",
       "  </thead>\n",
       "  <tbody>\n",
       "    <tr>\n",
       "      <th>7277</th>\n",
       "      <td>2024-03-31</td>\n",
       "      <td>1800096</td>\n",
       "      <td>1800106</td>\n",
       "      <td>3200.0</td>\n",
       "    </tr>\n",
       "    <tr>\n",
       "      <th>7278</th>\n",
       "      <td>2024-03-31</td>\n",
       "      <td>1800106</td>\n",
       "      <td>1800096</td>\n",
       "      <td>2148.0</td>\n",
       "    </tr>\n",
       "    <tr>\n",
       "      <th>7279</th>\n",
       "      <td>2024-03-31</td>\n",
       "      <td>1800106</td>\n",
       "      <td>1800111</td>\n",
       "      <td>3148.0</td>\n",
       "    </tr>\n",
       "  </tbody>\n",
       "</table>\n",
       "</div>"
      ],
      "text/plain": [
       "     search_date start_code end_code  search\n",
       "7277  2024-03-31    1800096  1800106  3200.0\n",
       "7278  2024-03-31    1800106  1800096  2148.0\n",
       "7279  2024-03-31    1800106  1800111  3148.0"
      ]
     },
     "execution_count": 35,
     "metadata": {},
     "output_type": "execute_result"
    }
   ],
   "source": [
    "df2.tail(3)"
   ]
  },
  {
   "cell_type": "code",
   "execution_count": 36,
   "id": "91a6096f-1735-4e1d-b83d-9fffac821204",
   "metadata": {},
   "outputs": [],
   "source": [
    "# 2つのデータフレームを1つに結合する\n",
    "df_new = pd.concat([df1, df2], axis=0)"
   ]
  },
  {
   "cell_type": "code",
   "execution_count": 37,
   "id": "ea5b54b1-a229-49bd-b669-1c3b6c5c0ef8",
   "metadata": {},
   "outputs": [
    {
     "data": {
      "text/html": [
       "<div>\n",
       "<style scoped>\n",
       "    .dataframe tbody tr th:only-of-type {\n",
       "        vertical-align: middle;\n",
       "    }\n",
       "\n",
       "    .dataframe tbody tr th {\n",
       "        vertical-align: top;\n",
       "    }\n",
       "\n",
       "    .dataframe thead th {\n",
       "        text-align: right;\n",
       "    }\n",
       "</style>\n",
       "<table border=\"1\" class=\"dataframe\">\n",
       "  <thead>\n",
       "    <tr style=\"text-align: right;\">\n",
       "      <th></th>\n",
       "      <th>search_date</th>\n",
       "      <th>start_code</th>\n",
       "      <th>end_code</th>\n",
       "      <th>search</th>\n",
       "    </tr>\n",
       "  </thead>\n",
       "  <tbody>\n",
       "    <tr>\n",
       "      <th>0</th>\n",
       "      <td>2023-10-01</td>\n",
       "      <td>1040013</td>\n",
       "      <td>1040016</td>\n",
       "      <td>9381.0</td>\n",
       "    </tr>\n",
       "    <tr>\n",
       "      <th>1</th>\n",
       "      <td>2023-10-01</td>\n",
       "      <td>1040016</td>\n",
       "      <td>1040013</td>\n",
       "      <td>8807.0</td>\n",
       "    </tr>\n",
       "    <tr>\n",
       "      <th>2</th>\n",
       "      <td>2023-10-01</td>\n",
       "      <td>1040016</td>\n",
       "      <td>1040020</td>\n",
       "      <td>9988.0</td>\n",
       "    </tr>\n",
       "    <tr>\n",
       "      <th>3</th>\n",
       "      <td>2023-10-01</td>\n",
       "      <td>1040020</td>\n",
       "      <td>1040016</td>\n",
       "      <td>8649.0</td>\n",
       "    </tr>\n",
       "    <tr>\n",
       "      <th>4</th>\n",
       "      <td>2023-10-01</td>\n",
       "      <td>1040020</td>\n",
       "      <td>1040023</td>\n",
       "      <td>9991.0</td>\n",
       "    </tr>\n",
       "  </tbody>\n",
       "</table>\n",
       "</div>"
      ],
      "text/plain": [
       "  search_date start_code end_code  search\n",
       "0  2023-10-01    1040013  1040016  9381.0\n",
       "1  2023-10-01    1040016  1040013  8807.0\n",
       "2  2023-10-01    1040016  1040020  9988.0\n",
       "3  2023-10-01    1040020  1040016  8649.0\n",
       "4  2023-10-01    1040020  1040023  9991.0"
      ]
     },
     "execution_count": 37,
     "metadata": {},
     "output_type": "execute_result"
    }
   ],
   "source": [
    "df_new.head()"
   ]
  },
  {
   "cell_type": "code",
   "execution_count": 38,
   "id": "7e5a4fd7-f332-4a3e-8c85-d5b99dc0b806",
   "metadata": {},
   "outputs": [
    {
     "data": {
      "text/html": [
       "<div>\n",
       "<style scoped>\n",
       "    .dataframe tbody tr th:only-of-type {\n",
       "        vertical-align: middle;\n",
       "    }\n",
       "\n",
       "    .dataframe tbody tr th {\n",
       "        vertical-align: top;\n",
       "    }\n",
       "\n",
       "    .dataframe thead th {\n",
       "        text-align: right;\n",
       "    }\n",
       "</style>\n",
       "<table border=\"1\" class=\"dataframe\">\n",
       "  <thead>\n",
       "    <tr style=\"text-align: right;\">\n",
       "      <th></th>\n",
       "      <th>search_date</th>\n",
       "      <th>start_code</th>\n",
       "      <th>end_code</th>\n",
       "      <th>search</th>\n",
       "    </tr>\n",
       "  </thead>\n",
       "  <tbody>\n",
       "    <tr>\n",
       "      <th>7275</th>\n",
       "      <td>2024-03-31</td>\n",
       "      <td>1800091</td>\n",
       "      <td>1800096</td>\n",
       "      <td>3214.0</td>\n",
       "    </tr>\n",
       "    <tr>\n",
       "      <th>7276</th>\n",
       "      <td>2024-03-31</td>\n",
       "      <td>1800096</td>\n",
       "      <td>1800091</td>\n",
       "      <td>2140.0</td>\n",
       "    </tr>\n",
       "    <tr>\n",
       "      <th>7277</th>\n",
       "      <td>2024-03-31</td>\n",
       "      <td>1800096</td>\n",
       "      <td>1800106</td>\n",
       "      <td>3200.0</td>\n",
       "    </tr>\n",
       "    <tr>\n",
       "      <th>7278</th>\n",
       "      <td>2024-03-31</td>\n",
       "      <td>1800106</td>\n",
       "      <td>1800096</td>\n",
       "      <td>2148.0</td>\n",
       "    </tr>\n",
       "    <tr>\n",
       "      <th>7279</th>\n",
       "      <td>2024-03-31</td>\n",
       "      <td>1800106</td>\n",
       "      <td>1800111</td>\n",
       "      <td>3148.0</td>\n",
       "    </tr>\n",
       "  </tbody>\n",
       "</table>\n",
       "</div>"
      ],
      "text/plain": [
       "     search_date start_code end_code  search\n",
       "7275  2024-03-31    1800091  1800096  3214.0\n",
       "7276  2024-03-31    1800096  1800091  2140.0\n",
       "7277  2024-03-31    1800096  1800106  3200.0\n",
       "7278  2024-03-31    1800106  1800096  2148.0\n",
       "7279  2024-03-31    1800106  1800111  3148.0"
      ]
     },
     "execution_count": 38,
     "metadata": {},
     "output_type": "execute_result"
    }
   ],
   "source": [
    "df_new.tail()"
   ]
  },
  {
   "cell_type": "code",
   "execution_count": 45,
   "id": "82464a23-707e-473e-bce8-f4dce0cfe053",
   "metadata": {},
   "outputs": [],
   "source": [
    "# ソート（時間指定あり）\n",
    "# df_new = df_new.sort_values(\n",
    "#     ['start_code', 'end_code', 'passing_time']\n",
    "# ).reset_index(drop=True)\n",
    "\n",
    "# ソート（時間指定なし）\n",
    "df_new = df_new.sort_values(\n",
    "    ['search_date', 'start_code', 'end_code']\n",
    ").reset_index(drop=True)"
   ]
  },
  {
   "cell_type": "code",
   "execution_count": 46,
   "id": "60827798-0c7a-4dec-bbc8-dd349017d54c",
   "metadata": {},
   "outputs": [],
   "source": [
    "# データフレーム長が一致することを検証\n",
    "assert len(df1) + len(df2) == len(df_new)"
   ]
  },
  {
   "cell_type": "code",
   "execution_count": 47,
   "id": "9f36c65d-0324-463f-9be1-b8f6c251579e",
   "metadata": {},
   "outputs": [],
   "source": [
    "# 時間指定あり\n",
    "# file_out = f'./search_count/search-count_specified_20231001-20240331.csv'\n",
    "\n",
    "# 時間指定なし\n",
    "file_out = f'./search_count/search-count_unspecified_20231001-20240331.csv'"
   ]
  },
  {
   "cell_type": "code",
   "execution_count": 48,
   "id": "4cc43fc8-b4b4-4143-9a99-dc8bdb416c63",
   "metadata": {},
   "outputs": [
    {
     "name": "stdout",
     "output_type": "stream",
     "text": [
      "CPU times: user 45.6 ms, sys: 7.37 ms, total: 52.9 ms\n",
      "Wall time: 51.8 ms\n"
     ]
    }
   ],
   "source": [
    "%time df_new.to_csv(file_out, index=False)"
   ]
  }
 ],
 "metadata": {
  "kernelspec": {
   "display_name": "Python 3 (ipykernel)",
   "language": "python",
   "name": "python3"
  },
  "language_info": {
   "codemirror_mode": {
    "name": "ipython",
    "version": 3
   },
   "file_extension": ".py",
   "mimetype": "text/x-python",
   "name": "python",
   "nbconvert_exporter": "python",
   "pygments_lexer": "ipython3",
   "version": "3.8.13"
  }
 },
 "nbformat": 4,
 "nbformat_minor": 5
}
