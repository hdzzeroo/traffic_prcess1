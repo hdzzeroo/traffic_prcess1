{
 "cells": [
  {
   "cell_type": "markdown",
   "id": "1964c696-ac8b-48f5-b361-8cf8c0508903",
   "metadata": {
    "tags": []
   },
   "source": [
    "# このファイルについて\n",
    "- 高速道路上のIC間経路を計算するためのプログラム\n",
    "\n",
    "## 動作環境\n",
    "- Ubuntu 20.04.4 LTS (Focal Fossa)\n",
    "- Python 3.8.13\n",
    "- networkx 2.6.3\n",
    "- pandas 1.3.5"
   ]
  },
  {
   "cell_type": "code",
   "execution_count": 1,
   "id": "adc1598c-32cf-4642-be14-9ebe5eadd4cc",
   "metadata": {},
   "outputs": [],
   "source": [
    "import os\n",
    "import pickle\n",
    "from typing import Dict, List, Optional, Set\n",
    "\n",
    "import networkx as nx\n",
    "import pandas as pd"
   ]
  },
  {
   "cell_type": "code",
   "execution_count": 2,
   "id": "5dfa40c2-ba8a-4965-ab3f-4346997a8748",
   "metadata": {},
   "outputs": [],
   "source": [
    "# data directory\n",
    "DATA_DIR = '../../Input_processed_data'\n",
    "\n",
    "# 道路構造データ\n",
    "IC_CSV = f'{DATA_DIR}/road_master/ic_preprocessed.csv'\n",
    "IC_NET_CSV = f'{DATA_DIR}/road_master/icnet_all.csv'"
   ]
  },
  {
   "cell_type": "markdown",
   "id": "b091eef0-d659-459c-a9b6-36ca443e0eff",
   "metadata": {},
   "source": [
    "# 道路構造データの読み込み・ICグラフの構築"
   ]
  },
  {
   "cell_type": "code",
   "execution_count": 3,
   "id": "1b76439b-e378-448d-87aa-bab280769e81",
   "metadata": {},
   "outputs": [],
   "source": [
    "# モジュール内で前処理済み\n",
    "df_ic = pd.read_csv(IC_CSV, dtype={'ic_code': str})\n",
    "df_icnet = pd.read_csv(IC_NET_CSV, dtype={'start_code': str, 'end_code': str, 'road_code': str})"
   ]
  },
  {
   "cell_type": "code",
   "execution_count": 4,
   "id": "5c9bfd4d-1037-4b9e-bf70-1fd7832c9e93",
   "metadata": {},
   "outputs": [],
   "source": [
    "code2name = dict(zip(df_ic['ic_code'], df_ic['ic_name']))\n",
    "name2code = {v: k for k, v in code2name.items()}"
   ]
  },
  {
   "cell_type": "code",
   "execution_count": 5,
   "id": "cefb0ae1-bda4-4e6a-bae5-98cba891e0d8",
   "metadata": {},
   "outputs": [],
   "source": [
    "ic_graph = nx.from_pandas_edgelist(\n",
    "    df_icnet, source='start_code', target='end_code',\n",
    "    edge_attr=['distance', 'road_code', 'direction'], create_using=nx.DiGraph())"
   ]
  },
  {
   "cell_type": "code",
   "execution_count": 6,
   "id": "4e201be5-4a51-4c38-bfd9-35d9e2ebb31d",
   "metadata": {},
   "outputs": [],
   "source": [
    "ic_nodes_set: set = set(ic_graph.nodes)"
   ]
  },
  {
   "cell_type": "markdown",
   "id": "79161956-29a1-484f-88c5-796e035fb72d",
   "metadata": {
    "tags": []
   },
   "source": [
    "# 経路検索用プログラム"
   ]
  },
  {
   "cell_type": "markdown",
   "id": "e2febc9d-dafc-468f-9ee0-c6c53535f4c9",
   "metadata": {
    "tags": []
   },
   "source": [
    "## 最短経路オブジェクト`route_dict`の読み込み・書き出し"
   ]
  },
  {
   "cell_type": "code",
   "execution_count": 7,
   "id": "4ee512c0-a628-4984-9ef9-973e790b9cdf",
   "metadata": {},
   "outputs": [
    {
     "name": "stdout",
     "output_type": "stream",
     "text": [
      "Loading IC Routes...\n",
      "Finished.\n"
     ]
    }
   ],
   "source": [
    "fname = './route_dict.pkl'\n",
    "\n",
    "if os.path.exists(fname): # 経路マップがすでに存在しているとき、それを使う\n",
    "    with open(fname, 'rb') as f:\n",
    "        print('Loading IC Routes...')\n",
    "        route_dict = pickle.load(f)\n",
    "else: # 存在していなければ計算してバイナリで保存\n",
    "    print('Calculating IC Routes...')\n",
    "    route_dict = dict(nx.all_pairs_dijkstra_path(ic_graph, weight='distance'))\n",
    "    \n",
    "    with open(fname, 'wb') as f:\n",
    "        pickle.dump(route_dict, f)\n",
    "print('Finished.')"
   ]
  },
  {
   "cell_type": "code",
   "execution_count": 8,
   "id": "5365fa05-d521-4bc4-b209-19ec9f0f80df",
   "metadata": {},
   "outputs": [
    {
     "name": "stdout",
     "output_type": "stream",
     "text": [
      "3.4G\t./route_dict.pkl\n"
     ]
    }
   ],
   "source": [
    "! du -h ./route_dict.pkl"
   ]
  },
  {
   "cell_type": "markdown",
   "id": "cd77c439-bd3d-4f6b-9c49-5ad84cec0185",
   "metadata": {
    "tags": []
   },
   "source": [
    "## トラカンデータが省略しているICを列挙する"
   ]
  },
  {
   "cell_type": "code",
   "execution_count": 9,
   "id": "2914fd3f-860f-44e1-83dd-93ee1f192e38",
   "metadata": {},
   "outputs": [],
   "source": [
    "# 省略するICをハードコーディング\n",
    "\n",
    "small_ic_set = {\n",
    "    '1040014',\n",
    "    '1040019',\n",
    "    '1040021',\n",
    "    '1040041',\n",
    "    '1040071',\n",
    "    '1040081',\n",
    "    '1040111',\n",
    "    '1800004',\n",
    "    '1800031',\n",
    "    '1800046',\n",
    "    '1800093',\n",
    "    '1800101'\n",
    "}"
   ]
  },
  {
   "cell_type": "markdown",
   "id": "e49d9018-02b7-4587-ad67-4a5dd0783a65",
   "metadata": {
    "tags": []
   },
   "source": [
    "### old"
   ]
  },
  {
   "cell_type": "code",
   "execution_count": 9,
   "id": "f56bb5b0-b5b2-4498-88f9-e8f8d30aac3b",
   "metadata": {},
   "outputs": [
    {
     "name": "stdout",
     "output_type": "stream",
     "text": [
      "(80, 4)\n"
     ]
    },
    {
     "data": {
      "text/html": [
       "<div>\n",
       "<style scoped>\n",
       "    .dataframe tbody tr th:only-of-type {\n",
       "        vertical-align: middle;\n",
       "    }\n",
       "\n",
       "    .dataframe tbody tr th {\n",
       "        vertical-align: top;\n",
       "    }\n",
       "\n",
       "    .dataframe thead th {\n",
       "        text-align: right;\n",
       "    }\n",
       "</style>\n",
       "<table border=\"1\" class=\"dataframe\">\n",
       "  <thead>\n",
       "    <tr style=\"text-align: right;\">\n",
       "      <th></th>\n",
       "      <th>start_code</th>\n",
       "      <th>start_name</th>\n",
       "      <th>end_code</th>\n",
       "      <th>end_name</th>\n",
       "    </tr>\n",
       "  </thead>\n",
       "  <tbody>\n",
       "    <tr>\n",
       "      <th>0</th>\n",
       "      <td>1800006</td>\n",
       "      <td>所沢</td>\n",
       "      <td>1110210</td>\n",
       "      <td>大泉ＪＣＴ</td>\n",
       "    </tr>\n",
       "    <tr>\n",
       "      <th>1</th>\n",
       "      <td>1800011</td>\n",
       "      <td>三芳ＰＡ</td>\n",
       "      <td>1800006</td>\n",
       "      <td>所沢</td>\n",
       "    </tr>\n",
       "    <tr>\n",
       "      <th>2</th>\n",
       "      <td>1800016</td>\n",
       "      <td>川越</td>\n",
       "      <td>1800011</td>\n",
       "      <td>三芳ＰＡ</td>\n",
       "    </tr>\n",
       "  </tbody>\n",
       "</table>\n",
       "</div>"
      ],
      "text/plain": [
       "  start_code start_name end_code end_name\n",
       "0    1800006         所沢  1110210    大泉ＪＣＴ\n",
       "1    1800011       三芳ＰＡ  1800006       所沢\n",
       "2    1800016         川越  1800011     三芳ＰＡ"
      ]
     },
     "execution_count": 9,
     "metadata": {},
     "output_type": "execute_result"
    }
   ],
   "source": [
    "# トラカンデータが持つ区間のdataframe\n",
    "tc_segments = pd.read_pickle(f'./traffic_counter_segments.pkl')\n",
    "\n",
    "print(tc_segments.shape)\n",
    "tc_segments.head(3)"
   ]
  },
  {
   "cell_type": "code",
   "execution_count": 10,
   "id": "2b923a9d-981d-487f-8b1a-4dc77e58e9f9",
   "metadata": {},
   "outputs": [],
   "source": [
    "def get_small_ic_set(df: pd.DataFrame) -> Set[str]:\n",
    "    '''\n",
    "    トラカン固有のIC区間に本来含まれるICを列挙する\n",
    "    '''\n",
    "    unmatch_segments = [\n",
    "        segment for segment in df.loc[:, ['start_code', 'end_code']].values\n",
    "        if not ic_graph.has_edge(segment[0], segment[1])\n",
    "    ]\n",
    "    \n",
    "    small_ic_set = set()\n",
    "    for segment in unmatch_segments:\n",
    "        path = nx.shortest_path(ic_graph, *segment)\n",
    "        # 両端（start ICとend ICを除く）\n",
    "        small_ic_subset = set(path[1:-1])\n",
    "        small_ic_set |= small_ic_subset\n",
    "    return small_ic_set"
   ]
  },
  {
   "cell_type": "code",
   "execution_count": 7,
   "id": "c33b8724-032f-411f-9152-c6c7675654bf",
   "metadata": {},
   "outputs": [
    {
     "name": "stdout",
     "output_type": "stream",
     "text": [
      "高坂ＳＡ\n",
      "都賀西方ＰＡ\n",
      "大谷ＰＡ\n",
      "蓮田ＳＡ\n",
      "蓮田ＳＡ\n",
      "赤城ＰＡ\n",
      "黒磯ＰＡ\n",
      "嵐山ＰＡ\n",
      "赤城高原ＳＡ\n",
      "浦和（仙台方面）\n",
      "羽生ＰＡ\n",
      "新座本線\n"
     ]
    }
   ],
   "source": [
    "fname = './small_ic.pkl'\n",
    "\n",
    "if os.path.exists(fname):\n",
    "    df_small_ic = pd.read_pickle(fname)\n",
    "    small_ic_set = set(df_small_ic.ic_code)\n",
    "else:\n",
    "    small_ic_set = get_small_ic_set(tc_segments)\n",
    "    small_ic_list = list(small_ic_set)\n",
    "    \n",
    "    df_small_ic = pd.DataFrame({\n",
    "        'ic_code': small_ic_list,\n",
    "        'ic_name': [code2name[ic] for ic in small_ic_list]\n",
    "    }).sort_values('ic_code')\n",
    "    df_small_ic.to_pickle('./small_ic.pkl')\n",
    "    \n",
    "for ic in small_ic_set:\n",
    "    print(code2name[ic])"
   ]
  },
  {
   "cell_type": "markdown",
   "id": "7560ea95-c26a-40cc-968a-366d16031e1c",
   "metadata": {
    "tags": []
   },
   "source": [
    "## main"
   ]
  },
  {
   "cell_type": "code",
   "execution_count": 10,
   "id": "f094b0c5-968e-495c-bd10-6b01c322b8b8",
   "metadata": {},
   "outputs": [],
   "source": [
    "def __get_route(\n",
    "    src: str, dest: str, route_dict: Dict[str, Dict[str, List[str]]]\n",
    ") -> Optional[List[str]]:\n",
    "    if not (src in ic_nodes_set and dest in ic_nodes_set):\n",
    "        return []\n",
    "    try:\n",
    "        path = route_dict[src][dest]\n",
    "        return path\n",
    "    except: # 経路が存在しない, もしくはノードがグラフ上に存在しない場合\n",
    "        return []"
   ]
  },
  {
   "cell_type": "code",
   "execution_count": 11,
   "id": "7ffc87bf-5374-4c19-a50e-f2980c3b81dd",
   "metadata": {
    "tags": []
   },
   "outputs": [],
   "source": [
    "def get_route(\n",
    "    src: str, \n",
    "    dest: str, \n",
    "    route_dict: Dict[str, Dict[str, List[str]]],\n",
    "    excluded_ic_set: Set[str] = set(),\n",
    ") -> List[str]:\n",
    "    '''\n",
    "    ic_graph上で出発地から目的地までの経路を得る関数\n",
    "\n",
    "    Parameters\n",
    "    --------------\n",
    "    src: 出発ICコード\n",
    "    dest: 目的ICコード\n",
    "    '''\n",
    "    path = __get_route(src, dest, route_dict=route_dict)\n",
    "    \n",
    "    if len(excluded_ic_set) > 0:\n",
    "        path = [ic for ic in path if ic not in excluded_ic_set]\n",
    "    return path"
   ]
  },
  {
   "cell_type": "markdown",
   "id": "ef085ab9-9e8f-4e62-8f09-df693113292f",
   "metadata": {},
   "source": [
    "## test"
   ]
  },
  {
   "cell_type": "code",
   "execution_count": 17,
   "id": "12cb7e09-e96b-4814-a3fe-b77e72d5978d",
   "metadata": {},
   "outputs": [
    {
     "data": {
      "text/plain": [
       "('1110210', '1800051')"
      ]
     },
     "execution_count": 17,
     "metadata": {},
     "output_type": "execute_result"
    }
   ],
   "source": [
    "name2code['大泉ＪＣＴ'], name2code['花園']"
   ]
  },
  {
   "cell_type": "code",
   "execution_count": 21,
   "id": "345dfd1d-64c5-4a74-8e7a-68ba6a31e870",
   "metadata": {},
   "outputs": [
    {
     "data": {
      "text/plain": [
       "['1110210',\n",
       " '1800004',\n",
       " '1800006',\n",
       " '1800011',\n",
       " '1800016',\n",
       " '1800021',\n",
       " '1800026',\n",
       " '1800028',\n",
       " '1800031',\n",
       " '1800036',\n",
       " '1800041',\n",
       " '1800046',\n",
       " '1800051']"
      ]
     },
     "execution_count": 21,
     "metadata": {},
     "output_type": "execute_result"
    }
   ],
   "source": [
    "src, dest = name2code['大泉ＪＣＴ'], name2code['花園']\n",
    "route_dict[src][dest]"
   ]
  },
  {
   "cell_type": "code",
   "execution_count": 22,
   "id": "d3f05920-8957-404f-b217-c25f639acb03",
   "metadata": {},
   "outputs": [
    {
     "name": "stdout",
     "output_type": "stream",
     "text": [
      "['大泉ＪＣＴ', '新座本線', '所沢', '三芳ＰＡ', '川越', '鶴ヶ島ＪＣＴ', '鶴ヶ島', '坂戸西スマート', '高坂ＳＡ', '東松山', '嵐山小川', '嵐山ＰＡ', '花園']\n"
     ]
    }
   ],
   "source": [
    "src, dest = name2code['大泉ＪＣＴ'], name2code['花園']\n",
    "\n",
    "path = get_route(src, dest, route_dict=route_dict)\n",
    "print([code2name[ic] for ic in path])"
   ]
  },
  {
   "cell_type": "code",
   "execution_count": 23,
   "id": "62d204da-8e45-456c-b7bb-f33eb6ee7ecd",
   "metadata": {},
   "outputs": [
    {
     "name": "stdout",
     "output_type": "stream",
     "text": [
      "['大泉ＪＣＴ', '所沢', '三芳ＰＡ', '川越', '鶴ヶ島ＪＣＴ', '鶴ヶ島', '坂戸西スマート', '東松山', '嵐山小川', '花園']\n"
     ]
    }
   ],
   "source": [
    "src, dest = name2code['大泉ＪＣＴ'], name2code['花園']\n",
    "\n",
    "path = get_route(src, dest, route_dict=route_dict, excluded_ic_set=small_ic_set)\n",
    "print([code2name[ic] for ic in path])"
   ]
  },
  {
   "cell_type": "code",
   "execution_count": 24,
   "id": "58c29b26-05c8-4975-aa9a-6fa5a0980dd8",
   "metadata": {},
   "outputs": [
    {
     "name": "stdout",
     "output_type": "stream",
     "text": [
      "['大泉ＪＣＴ']\n"
     ]
    }
   ],
   "source": [
    "src, dest = name2code['大泉ＪＣＴ'], name2code['大泉ＪＣＴ']\n",
    "\n",
    "path = get_route(src, dest, route_dict=route_dict, excluded_ic_set=small_ic_set)\n",
    "print([code2name[ic] for ic in path])"
   ]
  },
  {
   "cell_type": "code",
   "execution_count": 25,
   "id": "7b16c9a0-6441-4ba4-af85-2558c4f47ac4",
   "metadata": {},
   "outputs": [
    {
     "name": "stdout",
     "output_type": "stream",
     "text": [
      "['所沢', '三芳ＰＡ', '川越', '鶴ヶ島ＪＣＴ', '鶴ヶ島', '坂戸西スマート', '東松山', '嵐山小川', '花園']\n"
     ]
    }
   ],
   "source": [
    "src, dest = name2code['新座本線'], name2code['花園']\n",
    "\n",
    "path = get_route(src, dest, route_dict=route_dict, excluded_ic_set=small_ic_set)\n",
    "print([code2name[ic] for ic in path])"
   ]
  },
  {
   "cell_type": "code",
   "execution_count": 26,
   "id": "936cf59c-205e-47fe-944c-da56a17bb11a",
   "metadata": {},
   "outputs": [
    {
     "name": "stdout",
     "output_type": "stream",
     "text": [
      "['所沢']\n"
     ]
    }
   ],
   "source": [
    "src, dest = name2code['新座本線'], name2code['所沢']\n",
    "\n",
    "path = get_route(src, dest, route_dict=route_dict, excluded_ic_set=small_ic_set)\n",
    "print([code2name[ic] for ic in path])"
   ]
  },
  {
   "cell_type": "code",
   "execution_count": 27,
   "id": "f58114b0-c0cb-4497-9fe1-64089f97fb37",
   "metadata": {},
   "outputs": [
    {
     "name": "stdout",
     "output_type": "stream",
     "text": [
      "[]\n"
     ]
    }
   ],
   "source": [
    "src, dest = name2code['新座本線'], name2code['新座本線']\n",
    "\n",
    "path = get_route(src, dest, route_dict=route_dict, excluded_ic_set=small_ic_set)\n",
    "print([code2name[ic] for ic in path])"
   ]
  },
  {
   "cell_type": "code",
   "execution_count": 28,
   "id": "f43b67f6-d488-44a0-96e1-7cf62645aa73",
   "metadata": {},
   "outputs": [
    {
     "name": "stdout",
     "output_type": "stream",
     "text": [
      "[]\n"
     ]
    }
   ],
   "source": [
    "src, dest = name2code['新座本線'], 'error code'\n",
    "\n",
    "path = get_route(src, dest, route_dict=route_dict, excluded_ic_set=small_ic_set)\n",
    "print([code2name[ic] for ic in path])"
   ]
  },
  {
   "cell_type": "markdown",
   "id": "f7c3c518-e131-4b57-b7d6-ba78fdbcecbd",
   "metadata": {},
   "source": [
    "## test module"
   ]
  },
  {
   "cell_type": "code",
   "execution_count": 7,
   "id": "45c5e072-fe5e-4f61-a2b6-e58f8c0b4545",
   "metadata": {},
   "outputs": [],
   "source": [
    "from expressway_router import ExpresswayRouter"
   ]
  },
  {
   "cell_type": "code",
   "execution_count": 8,
   "id": "53f36304-868b-451d-92f0-18ab01449b58",
   "metadata": {
    "tags": []
   },
   "outputs": [
    {
     "name": "stdout",
     "output_type": "stream",
     "text": [
      "Loading IC Network...\n",
      "Finished.\n"
     ]
    }
   ],
   "source": [
    "icnet_file = f'../../Input_processed_data/road_master/icnet_all.csv'\n",
    "\n",
    "router = ExpresswayRouter(icnet_file)"
   ]
  },
  {
   "cell_type": "code",
   "execution_count": 9,
   "id": "938a35f7-f593-43bf-af4f-f016ca5d4e14",
   "metadata": {},
   "outputs": [],
   "source": [
    "import pandas as pd\n",
    "\n",
    "df_ic = pd.read_csv(f'../../Input_processed_data/road_master/ic_preprocessed.csv', dtype={'ic_code': str})\n",
    "code2name = dict(zip(df_ic['ic_code'], df_ic['ic_name']))\n",
    "name2code = {v: k for k, v in code2name.items()}"
   ]
  },
  {
   "cell_type": "code",
   "execution_count": 10,
   "id": "f8e5a918-705a-4d65-8531-c9c7b1b1c9f8",
   "metadata": {},
   "outputs": [],
   "source": [
    "# 大泉JCT --> 花園\n",
    "# src, dest = name2code['大泉ＪＣＴ'], name2code['花園ＪＣＴ']\n",
    "src, dest = ('1110210', '1800051')"
   ]
  },
  {
   "cell_type": "code",
   "execution_count": 11,
   "id": "25f73f9d-e5e7-4434-b04e-876a6503f542",
   "metadata": {},
   "outputs": [
    {
     "name": "stdout",
     "output_type": "stream",
     "text": [
      "['1110210', '1800006', '1800011', '1800016', '1800021', '1800026', '1800028', '1800036', '1800041', '1800051']\n",
      "['大泉ＪＣＴ', '所沢', '三芳ＰＡ', '川越', '鶴ヶ島ＪＣＴ', '鶴ヶ島', '坂戸西スマート', '東松山', '嵐山小川', '花園']\n"
     ]
    }
   ],
   "source": [
    "path = router.get_route(src, dest)\n",
    "print(path)\n",
    "print([code2name[ic] for ic in path])"
   ]
  },
  {
   "cell_type": "code",
   "execution_count": 12,
   "id": "edde3160-015b-419a-924f-b663cbb46078",
   "metadata": {},
   "outputs": [
    {
     "name": "stdout",
     "output_type": "stream",
     "text": [
      "['1110210']\n",
      "['大泉ＪＣＴ']\n"
     ]
    }
   ],
   "source": [
    "# 大泉JCT --> 大泉JCT\n",
    "# src, dest = name2code['大泉ＪＣＴ'], name2code['大泉ＪＣＴ']\n",
    "src, dest = ('1110210', '1110210')\n",
    "\n",
    "path = router.get_route(src, dest)\n",
    "print(path)\n",
    "print([code2name[ic] for ic in path])"
   ]
  },
  {
   "cell_type": "code",
   "execution_count": 13,
   "id": "6bd99f24-6545-4a9c-89de-4c0cc5c184bd",
   "metadata": {},
   "outputs": [
    {
     "name": "stdout",
     "output_type": "stream",
     "text": [
      "['所沢', '三芳ＰＡ', '川越', '鶴ヶ島ＪＣＴ', '鶴ヶ島', '坂戸西スマート', '東松山', '嵐山小川', '花園']\n"
     ]
    }
   ],
   "source": [
    "src, dest = name2code['新座本線'], name2code['花園']\n",
    "\n",
    "path = router.get_route(src, dest)\n",
    "print([code2name[ic] for ic in path])"
   ]
  },
  {
   "cell_type": "code",
   "execution_count": 14,
   "id": "ec55ec3c-2357-4b3d-be70-c5995bfb7fec",
   "metadata": {},
   "outputs": [
    {
     "name": "stdout",
     "output_type": "stream",
     "text": [
      "['所沢']\n"
     ]
    }
   ],
   "source": [
    "src, dest = name2code['新座本線'], name2code['所沢']\n",
    "\n",
    "path = router.get_route(src, dest)\n",
    "print([code2name[ic] for ic in path])"
   ]
  },
  {
   "cell_type": "code",
   "execution_count": 15,
   "id": "025c4047-fa99-4487-b16c-2cb6fa6838d6",
   "metadata": {},
   "outputs": [
    {
     "name": "stdout",
     "output_type": "stream",
     "text": [
      "[]\n"
     ]
    }
   ],
   "source": [
    "src, dest = name2code['新座本線'], name2code['新座本線']\n",
    "\n",
    "path = router.get_route(src, dest)\n",
    "print([code2name[ic] for ic in path])"
   ]
  },
  {
   "cell_type": "code",
   "execution_count": 16,
   "id": "6444d4e6-55ed-4e38-8914-87314a60ca0f",
   "metadata": {},
   "outputs": [
    {
     "name": "stdout",
     "output_type": "stream",
     "text": [
      "[]\n"
     ]
    }
   ],
   "source": [
    "src, dest = name2code['新座本線'], 'error code'\n",
    "\n",
    "path = router.get_route(src, dest)\n",
    "print([code2name[ic] for ic in path])"
   ]
  },
  {
   "cell_type": "code",
   "execution_count": null,
   "id": "a1ce207a-c52a-4658-b8c6-695303893886",
   "metadata": {},
   "outputs": [],
   "source": []
  }
 ],
 "metadata": {
  "kernelspec": {
   "display_name": "Python 3 (ipykernel)",
   "language": "python",
   "name": "python3"
  },
  "language_info": {
   "codemirror_mode": {
    "name": "ipython",
    "version": 3
   },
   "file_extension": ".py",
   "mimetype": "text/x-python",
   "name": "python",
   "nbconvert_exporter": "python",
   "pygments_lexer": "ipython3",
   "version": "3.8.13"
  }
 },
 "nbformat": 4,
 "nbformat_minor": 5
}
